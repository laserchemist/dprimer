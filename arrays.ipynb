{
 "cells": [
  {
   "cell_type": "markdown",
   "id": "4d14b139-725f-4a70-86ba-89511f4abb47",
   "metadata": {},
   "source": [
    "### Arrays\n",
    "Arrays are used to store data much like lists. Arrays are defined by the [Numpy module](https://numpy.org) which needs to be imported to work with arrays. Once a Numpy array is defined there are many powerful functions that the Numpy package provides. Some of these can quickly create arrays such as the `numpy.arange()` function."
   ]
  },
  {
   "cell_type": "code",
   "execution_count": 1,
   "id": "0bb09db7-8305-470d-aa28-f888cc474f45",
   "metadata": {},
   "outputs": [],
   "source": [
    "import numpy as np"
   ]
  },
  {
   "cell_type": "markdown",
   "id": "82baef7e-30d0-4144-8057-925dd74bffa5",
   "metadata": {},
   "source": [
    "Creating our first array. Above we import numpy and label all numpy functionality with the `np` prefix. Below our array is stored in the variable, `firstarray`. Note that the `np.array()` takes a list as an argument as made clear by the `[0,1,2,3,4]`."
   ]
  },
  {
   "cell_type": "code",
   "execution_count": 2,
   "id": "d34e4a70-24d5-4423-8dde-79d84c4290da",
   "metadata": {},
   "outputs": [
    {
     "data": {
      "text/plain": [
       "array([0, 1, 2, 3, 4])"
      ]
     },
     "execution_count": 2,
     "metadata": {},
     "output_type": "execute_result"
    }
   ],
   "source": [
    "firstarray = np.array([0,1,2,3,4])\n",
    "firstarray"
   ]
  },
  {
   "cell_type": "markdown",
   "id": "7a5f66f2-155a-4142-8080-9da12c14f00f",
   "metadata": {},
   "source": [
    "We can make arrays using numbers generated from other functions or packages such as the `math` package."
   ]
  },
  {
   "cell_type": "code",
   "execution_count": 3,
   "id": "6a4a53fb-deca-40d4-b478-182b60294ce7",
   "metadata": {},
   "outputs": [],
   "source": [
    "import math as m"
   ]
  },
  {
   "cell_type": "code",
   "execution_count": 4,
   "id": "95b62ea1-3eaf-4a86-9066-4bca39bd239c",
   "metadata": {},
   "outputs": [
    {
     "data": {
      "text/plain": [
       "array([ 1.        , -1.        ,  3.14159265,  2.71828183, 21.5       ])"
      ]
     },
     "execution_count": 4,
     "metadata": {},
     "output_type": "execute_result"
    }
   ],
   "source": [
    "np.array([ 1, -1, m.pi, m.e, max(0,21.5,-4.4,19)])"
   ]
  },
  {
   "cell_type": "markdown",
   "id": "7ceefe37-3853-40e4-b34c-b0093b00c387",
   "metadata": {},
   "source": [
    "#### Accessing elements of an array"
   ]
  },
  {
   "cell_type": "code",
   "execution_count": 5,
   "id": "a22a69ba-0c9f-459d-9733-980698489afa",
   "metadata": {},
   "outputs": [
    {
     "data": {
      "text/plain": [
       "array([0, 1, 2, 3, 4])"
      ]
     },
     "execution_count": 5,
     "metadata": {},
     "output_type": "execute_result"
    }
   ],
   "source": [
    "firstarray"
   ]
  },
  {
   "cell_type": "markdown",
   "id": "3887d6db-cbbd-406b-8c52-e6053b57c432",
   "metadata": {},
   "source": [
    "Now to access an individual element (value) we can use an index where the first element is zero as demonstrated below"
   ]
  },
  {
   "cell_type": "code",
   "execution_count": 6,
   "id": "71f4afce-10a1-4cd7-a748-c337fff370e7",
   "metadata": {},
   "outputs": [
    {
     "data": {
      "text/plain": [
       "2"
      ]
     },
     "execution_count": 6,
     "metadata": {},
     "output_type": "execute_result"
    }
   ],
   "source": [
    "firstarray[2]"
   ]
  },
  {
   "cell_type": "markdown",
   "id": "474b8600-7dff-468b-a2b8-257c5a5f704d",
   "metadata": {},
   "source": [
    "We can also slice the array using ranges of indices such as `firstarray[1:3]` which takes the 2nd amd 3rd but not 4th element"
   ]
  },
  {
   "cell_type": "code",
   "execution_count": 7,
   "id": "86c13f86-c11c-4ed5-aba0-e08848d1e496",
   "metadata": {},
   "outputs": [
    {
     "data": {
      "text/plain": [
       "array([1, 2])"
      ]
     },
     "execution_count": 7,
     "metadata": {},
     "output_type": "execute_result"
    }
   ],
   "source": [
    "firstarray[1:3]"
   ]
  },
  {
   "cell_type": "code",
   "execution_count": 8,
   "id": "6dd787be-0da1-4102-af96-af09b6bc6cc5",
   "metadata": {},
   "outputs": [
    {
     "data": {
      "text/plain": [
       "array([ 1.        , -1.        ,  3.14159265,  2.71828183, 21.5       ])"
      ]
     },
     "execution_count": 8,
     "metadata": {},
     "output_type": "execute_result"
    }
   ],
   "source": [
    "interesting_array = np.array([ 1, -1, m.pi, m.e, max(0,21.5,-4.4,19)])\n",
    "interesting_array"
   ]
  },
  {
   "cell_type": "code",
   "execution_count": 9,
   "id": "75c930f0-884c-42b5-803c-4548665ebc7b",
   "metadata": {},
   "outputs": [
    {
     "data": {
      "text/plain": [
       "array([3.14159265, 2.71828183])"
      ]
     },
     "execution_count": 9,
     "metadata": {},
     "output_type": "execute_result"
    }
   ],
   "source": [
    "interesting_array[2:4]"
   ]
  },
  {
   "cell_type": "markdown",
   "id": "a565d97c-3fb5-4dc7-8f9b-2e41880383c0",
   "metadata": {},
   "source": [
    "A blank after the colon includes everything to the end or begining of the array"
   ]
  },
  {
   "cell_type": "code",
   "execution_count": 10,
   "id": "a197a03d-d26b-4895-94f9-0d92e1db201b",
   "metadata": {},
   "outputs": [
    {
     "data": {
      "text/plain": [
       "array([ 3.14159265,  2.71828183, 21.5       ])"
      ]
     },
     "execution_count": 10,
     "metadata": {},
     "output_type": "execute_result"
    }
   ],
   "source": [
    "rightofarray = interesting_array[2:]\n",
    "rightofarray"
   ]
  },
  {
   "cell_type": "code",
   "execution_count": 11,
   "id": "da0c2d93-a239-439c-b498-f0c634cf061f",
   "metadata": {},
   "outputs": [
    {
     "data": {
      "text/plain": [
       "array([ 1., -1.])"
      ]
     },
     "execution_count": 11,
     "metadata": {},
     "output_type": "execute_result"
    }
   ],
   "source": [
    "leftofarray = interesting_array[:2]\n",
    "leftofarray"
   ]
  },
  {
   "cell_type": "markdown",
   "id": "847601c3-4f71-4b2e-8121-2779f9b39e3b",
   "metadata": {},
   "source": [
    "#### `np.arange()`\n",
    "A very powerful way to create custom arrays is `np.arange()` which takes up to three arguments, `np.arange(start, stop, step)`, where the defaults for `start` and `step` are 0 and 1 by default."
   ]
  },
  {
   "cell_type": "code",
   "execution_count": 12,
   "id": "0791b683-15e4-4708-aefa-106ce6558046",
   "metadata": {},
   "outputs": [
    {
     "data": {
      "text/plain": [
       "array([0, 1, 2, 3, 4])"
      ]
     },
     "execution_count": 12,
     "metadata": {},
     "output_type": "execute_result"
    }
   ],
   "source": [
    "array2 = np.arange(5)\n",
    "array2"
   ]
  },
  {
   "cell_type": "markdown",
   "id": "3b4af4c8-5274-4ffa-8f7f-59617c192a24",
   "metadata": {},
   "source": [
    "Defaults of 0 and 1 are assumed above"
   ]
  },
  {
   "cell_type": "code",
   "execution_count": 13,
   "id": "f6e76377-5816-4e51-8051-f71f6e759867",
   "metadata": {},
   "outputs": [
    {
     "data": {
      "text/plain": [
       "array([0, 1, 2, 3, 4])"
      ]
     },
     "execution_count": 13,
     "metadata": {},
     "output_type": "execute_result"
    }
   ],
   "source": [
    "array3 = np.arange(0,5,1)\n",
    "array3"
   ]
  },
  {
   "cell_type": "markdown",
   "id": "c9faebc1-f00b-445c-b605-35b243b3d410",
   "metadata": {},
   "source": [
    "Odd numbers using `np.arange()`"
   ]
  },
  {
   "cell_type": "code",
   "execution_count": 14,
   "id": "a4a51177-c220-4bd0-a237-1406c92ee23a",
   "metadata": {},
   "outputs": [
    {
     "data": {
      "text/plain": [
       "array([1, 3, 5, 7, 9])"
      ]
     },
     "execution_count": 14,
     "metadata": {},
     "output_type": "execute_result"
    }
   ],
   "source": [
    "odd = np.arange(1,10,2)\n",
    "odd"
   ]
  },
  {
   "cell_type": "markdown",
   "id": "0978155d-3323-494f-9cb6-00bc97765343",
   "metadata": {},
   "source": [
    "We can carry out operations on arrays. In this case raise 2 to the power of each element in `odd`."
   ]
  },
  {
   "cell_type": "code",
   "execution_count": 15,
   "id": "8f173624-ddfe-4cc5-884b-a5530852372b",
   "metadata": {},
   "outputs": [
    {
     "data": {
      "text/plain": [
       "array([  2,   8,  32, 128, 512])"
      ]
     },
     "execution_count": 15,
     "metadata": {},
     "output_type": "execute_result"
    }
   ],
   "source": [
    "2**odd"
   ]
  },
  {
   "cell_type": "markdown",
   "id": "ef1aed4c-c6ed-4ab9-8a13-b8af6141dc61",
   "metadata": {},
   "source": [
    "We can create arrays with mixed data types but many of the numpy operations can not be performed on these arrays"
   ]
  },
  {
   "cell_type": "code",
   "execution_count": 16,
   "id": "515e48c1-7128-478e-bd2c-42cd11df0eba",
   "metadata": {},
   "outputs": [
    {
     "data": {
      "text/plain": [
       "array(['one', '2', '3', '4'], dtype='<U21')"
      ]
     },
     "execution_count": 16,
     "metadata": {},
     "output_type": "execute_result"
    }
   ],
   "source": [
    "np.array([\"one\",2,3,4])"
   ]
  },
  {
   "cell_type": "code",
   "execution_count": 17,
   "id": "75725cd5-3289-40a3-a46c-aee930830606",
   "metadata": {},
   "outputs": [
    {
     "ename": "UFuncTypeError",
     "evalue": "ufunc 'multiply' did not contain a loop with signature matching types (dtype('int64'), dtype('<U21')) -> None",
     "output_type": "error",
     "traceback": [
      "\u001b[0;31m---------------------------------------------------------------------------\u001b[0m",
      "\u001b[0;31mUFuncTypeError\u001b[0m                            Traceback (most recent call last)",
      "Input \u001b[0;32mIn [17]\u001b[0m, in \u001b[0;36m<cell line: 1>\u001b[0;34m()\u001b[0m\n\u001b[0;32m----> 1\u001b[0m \u001b[38;5;241;43m2\u001b[39;49m\u001b[38;5;241;43m*\u001b[39;49m\u001b[43mnp\u001b[49m\u001b[38;5;241;43m.\u001b[39;49m\u001b[43marray\u001b[49m\u001b[43m(\u001b[49m\u001b[43m[\u001b[49m\u001b[38;5;124;43m\"\u001b[39;49m\u001b[38;5;124;43mone\u001b[39;49m\u001b[38;5;124;43m\"\u001b[39;49m\u001b[43m,\u001b[49m\u001b[38;5;241;43m2\u001b[39;49m\u001b[43m,\u001b[49m\u001b[38;5;241;43m3\u001b[39;49m\u001b[43m,\u001b[49m\u001b[38;5;241;43m4\u001b[39;49m\u001b[43m]\u001b[49m\u001b[43m)\u001b[49m\n",
      "\u001b[0;31mUFuncTypeError\u001b[0m: ufunc 'multiply' did not contain a loop with signature matching types (dtype('int64'), dtype('<U21')) -> None"
     ]
    }
   ],
   "source": [
    "2*np.array([\"one\",2,3,4]) # Causes an error"
   ]
  },
  {
   "cell_type": "markdown",
   "id": "86b1a226-a2d4-4a85-af53-a5b0a6f959d2",
   "metadata": {},
   "source": [
    "When we apply operations on list such as multiply there is no error but the effect is very different"
   ]
  },
  {
   "cell_type": "code",
   "execution_count": 18,
   "id": "7dec30e3-48bf-4690-a681-d23c42139caf",
   "metadata": {
    "scrolled": true,
    "tags": []
   },
   "outputs": [
    {
     "data": {
      "text/plain": [
       "['one', 2, 3, 4, 'one', 2, 3, 4]"
      ]
     },
     "execution_count": 18,
     "metadata": {},
     "output_type": "execute_result"
    }
   ],
   "source": [
    "2*[\"one\",2,3,4]"
   ]
  }
 ],
 "metadata": {
  "kernelspec": {
   "display_name": "Python 3 (ipykernel)",
   "language": "python",
   "name": "python3"
  },
  "language_info": {
   "codemirror_mode": {
    "name": "ipython",
    "version": 3
   },
   "file_extension": ".py",
   "mimetype": "text/x-python",
   "name": "python",
   "nbconvert_exporter": "python",
   "pygments_lexer": "ipython3",
   "version": "3.9.12"
  }
 },
 "nbformat": 4,
 "nbformat_minor": 5
}
