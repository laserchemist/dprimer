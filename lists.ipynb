{
 "cells": [
  {
   "cell_type": "markdown",
   "id": "45c40468-ccf5-43e7-ac55-e49aa21fd29b",
   "metadata": {},
   "source": [
    "## Lists"
   ]
  },
  {
   "cell_type": "markdown",
   "id": "74299694-3778-4716-ac62-7838da63ae72",
   "metadata": {},
   "source": [
    "Lists are a way Python can store multiple pieces of data. For instance the abbreviated days of the week:"
   ]
  },
  {
   "cell_type": "code",
   "execution_count": 1,
   "id": "493fb326-fbf6-4aa3-8ee9-cedb49e6b509",
   "metadata": {},
   "outputs": [
    {
     "data": {
      "text/plain": [
       "['M', 'T', 'W', 'R', 'F', 'S', 'S']"
      ]
     },
     "execution_count": 1,
     "metadata": {},
     "output_type": "execute_result"
    }
   ],
   "source": [
    "['M','T','W','R','F','S','S']"
   ]
  },
  {
   "cell_type": "markdown",
   "id": "852fa4a0-a400-465f-a11d-2c8fec148ff1",
   "metadata": {},
   "source": [
    "We can make lists of numbers and even us numbers from an imported math module to add some interesting numbers."
   ]
  },
  {
   "cell_type": "code",
   "execution_count": 2,
   "id": "ebc7779d-f6f2-4726-b635-9c6d68a34199",
   "metadata": {},
   "outputs": [],
   "source": [
    "import math as math"
   ]
  },
  {
   "cell_type": "code",
   "execution_count": 3,
   "id": "e1900018-9287-4204-b751-945981e3e166",
   "metadata": {},
   "outputs": [
    {
     "data": {
      "text/plain": [
       "3.141592653589793"
      ]
     },
     "execution_count": 3,
     "metadata": {},
     "output_type": "execute_result"
    }
   ],
   "source": [
    "math.pi"
   ]
  },
  {
   "cell_type": "code",
   "execution_count": 4,
   "id": "ab848f17-1a4d-47e0-9678-631bd71ebb54",
   "metadata": {},
   "outputs": [
    {
     "data": {
      "text/plain": [
       "[3.141592653589793, 0, -1, 2.718281828459045]"
      ]
     },
     "execution_count": 4,
     "metadata": {},
     "output_type": "execute_result"
    }
   ],
   "source": [
    "[math.pi,0,-1,math.e]"
   ]
  },
  {
   "cell_type": "markdown",
   "id": "4f8f3002-b21e-4bc3-a466-6c35fead3b9c",
   "metadata": {},
   "source": [
    "#### List Comprehension"
   ]
  },
  {
   "cell_type": "markdown",
   "id": "bac90c90-3284-4cfe-9103-261659cbd8b2",
   "metadata": {},
   "source": [
    "Operations or functions can be performed on members of a list using a powerful technique know as list comprehension, study these examples:"
   ]
  },
  {
   "cell_type": "code",
   "execution_count": 5,
   "id": "fde98314-209d-4458-a64c-08838111f55f",
   "metadata": {},
   "outputs": [
    {
     "data": {
      "text/plain": [
       "[0, 1, 2, 3, 4]"
      ]
     },
     "execution_count": 5,
     "metadata": {},
     "output_type": "execute_result"
    }
   ],
   "source": [
    "list = [0, 1, 2, 3, 4]\n",
    "list"
   ]
  },
  {
   "cell_type": "code",
   "execution_count": 6,
   "id": "87e76d96-5dd5-4bfa-aa7a-6a3e7bf8e66b",
   "metadata": {},
   "outputs": [
    {
     "data": {
      "text/plain": [
       "[0, 2, 4, 6, 8]"
      ]
     },
     "execution_count": 6,
     "metadata": {},
     "output_type": "execute_result"
    }
   ],
   "source": [
    "[2*x for x in list]"
   ]
  },
  {
   "cell_type": "code",
   "execution_count": 7,
   "id": "444bd39a-e796-43f6-9e0c-eb3a0ff3db54",
   "metadata": {},
   "outputs": [
    {
     "data": {
      "text/plain": [
       "[1, 2, 4, 8, 16]"
      ]
     },
     "execution_count": 7,
     "metadata": {},
     "output_type": "execute_result"
    }
   ],
   "source": [
    "[2**x for x in list]"
   ]
  },
  {
   "cell_type": "markdown",
   "id": "432e31b7-6f8a-4a91-97eb-a94e4ed346c9",
   "metadata": {},
   "source": [
    "The `x` in these examples is a placeholder which iterates through the values in the list and communicates these vales to the operation (i.e `2**x`) to create the new list. We can use any other label here such as `temp`."
   ]
  },
  {
   "cell_type": "markdown",
   "id": "cbd3f31c-f34f-4e64-8d2c-b9158bbd38bb",
   "metadata": {},
   "source": [
    "#### Example"
   ]
  },
  {
   "cell_type": "markdown",
   "id": "5edef4b4-4bcd-49d5-be01-f6181c790437",
   "metadata": {},
   "source": [
    "An ideal gas is the simplest description of the way gas molecules and atoms interact and the relationship between temperature, volume, pressure, and number of molecules. See:[Open Stax](https://openstax.org/books/chemistry-atoms-first-2e/pages/8-2-relating-pressure-volume-amount-and-temperature-the-ideal-gas-law)<br><br>\n",
    "P V = n R T \n",
    "<br> <br>\n",
    "P = pressure in atm <br>\n",
    "V = volume in liter <br>\n",
    "n = number of moles <br>\n",
    "R = gas constant = 0.082057 L atm / mol K <br>\n",
    "T = temperature in Kelvin"
   ]
  },
  {
   "cell_type": "markdown",
   "id": "11b0d1fe-e880-4802-8c2f-c38138a86a84",
   "metadata": {},
   "source": [
    "Challenge: Compute the volume of 1 mole of gas at 1 atm and the follwing temperatures T = 298 K (room remperature), 310 K, 273 K"
   ]
  },
  {
   "cell_type": "code",
   "execution_count": 8,
   "id": "56472c46-4b49-4c8e-9b8e-8a331ce38105",
   "metadata": {},
   "outputs": [],
   "source": [
    "T = [273, 298, 310]"
   ]
  },
  {
   "cell_type": "code",
   "execution_count": 9,
   "id": "10662270-561d-4d25-9a6f-cc3422143f64",
   "metadata": {},
   "outputs": [],
   "source": [
    "P = 1.0\n",
    "n = 1.0\n",
    "R = 0.082057"
   ]
  },
  {
   "cell_type": "markdown",
   "id": "a52acd42-47d9-4674-a970-e4f298f1754e",
   "metadata": {},
   "source": [
    "- Use a list to compute volume at the 3 temperatures"
   ]
  },
  {
   "cell_type": "code",
   "execution_count": 10,
   "id": "64c6cffb-117c-4b41-a829-b71174eb1227",
   "metadata": {},
   "outputs": [],
   "source": [
    "V = [n*R*temp/P for temp in T]"
   ]
  },
  {
   "cell_type": "code",
   "execution_count": 11,
   "id": "f52865d2-f5bb-4a1c-b543-b279b257dc25",
   "metadata": {},
   "outputs": [
    {
     "data": {
      "text/plain": [
       "[22.401561, 24.452986000000003, 25.43767]"
      ]
     },
     "execution_count": 11,
     "metadata": {},
     "output_type": "execute_result"
    }
   ],
   "source": [
    "V"
   ]
  }
 ],
 "metadata": {
  "kernelspec": {
   "display_name": "Python 3 (ipykernel)",
   "language": "python",
   "name": "python3"
  },
  "language_info": {
   "codemirror_mode": {
    "name": "ipython",
    "version": 3
   },
   "file_extension": ".py",
   "mimetype": "text/x-python",
   "name": "python",
   "nbconvert_exporter": "python",
   "pygments_lexer": "ipython3",
   "version": "3.9.12"
  }
 },
 "nbformat": 4,
 "nbformat_minor": 5
}
