{
 "cells": [
  {
   "cell_type": "markdown",
   "id": "bb84b459-5692-4372-8ae1-81fe22d15cfe",
   "metadata": {},
   "source": [
    "# Tables\n",
    "The datascience Table object is designed to analyze multiple data points with multiple charecteristics. One way to visualize this is to consider columns of data which contain values for each data point (row) and a typical table will have multiple columns reflecting the multiple charecteristics of each data point. Each column is also an array of values with each element representing the value for a given data point or row. The datascience Table has many methods which are summarized in the detailed [online reference](http://data8.org/datascience/tables.html). Datascience tables are closely related to the [pandas dataframe](https://pandas.pydata.org) which serves as a key component of a Python data science toolbox."
   ]
  },
  {
   "cell_type": "markdown",
   "id": "bf4f5757-4400-4020-871f-c0acedb65055",
   "metadata": {},
   "source": [
    "#### Import requisit datascience, plotting, and plot fixes"
   ]
  },
  {
   "cell_type": "code",
   "execution_count": 1,
   "id": "8b570ee0-306d-4fad-8ffa-e4b3b356922e",
   "metadata": {},
   "outputs": [],
   "source": [
    "from datascience import *\n",
    "\n",
    "# import for plotting\n",
    "%matplotlib inline\n",
    "import matplotlib.pyplot as plots\n",
    "plots.style.use('fivethirtyeight')\n",
    "# Fix for datascience plots\n",
    "import collections as collections\n",
    "import collections.abc as abc\n",
    "collections.Iterable = abc.Iterable"
   ]
  },
  {
   "cell_type": "markdown",
   "id": "296f5b49-1c3b-4cec-bdc7-39f3bcac2b64",
   "metadata": {},
   "source": [
    "### Create a first datascience table object from an array\n",
    "As an example we can create a table directly from data inserted into an array using the `with_columns` table method."
   ]
  },
  {
   "cell_type": "markdown",
   "id": "8df6677a-dd5a-4884-91a6-ef14c9ce7540",
   "metadata": {},
   "source": [
    "T=Table().with_columns('Tornados',make_array(0,0,0,1,0,0,0,1,5,1,0,0))"
   ]
  },
  {
   "cell_type": "markdown",
   "id": "748210b7-beaa-4d7f-9b87-86627de1f813",
   "metadata": {},
   "source": [
    "We can create a nice month index by using the numpy arange method combined with the `with_columns` table method."
   ]
  },
  {
   "cell_type": "code",
   "execution_count": 7,
   "id": "6e55ed11-88ab-46af-92e5-d702dbef8c8f",
   "metadata": {},
   "outputs": [],
   "source": [
    "import numpy as np\n",
    "T=T.with_columns('Month',np.arange(1,13,1))"
   ]
  },
  {
   "cell_type": "code",
   "execution_count": 8,
   "id": "7e4654c5-3c27-4230-bb55-fce1450dbd13",
   "metadata": {},
   "outputs": [
    {
     "data": {
      "text/html": [
       "<table border=\"1\" class=\"dataframe\">\n",
       "    <thead>\n",
       "        <tr>\n",
       "            <th>Tornados</th> <th>Month</th>\n",
       "        </tr>\n",
       "    </thead>\n",
       "    <tbody>\n",
       "        <tr>\n",
       "            <td>0       </td> <td>1    </td>\n",
       "        </tr>\n",
       "        <tr>\n",
       "            <td>0       </td> <td>2    </td>\n",
       "        </tr>\n",
       "        <tr>\n",
       "            <td>0       </td> <td>3    </td>\n",
       "        </tr>\n",
       "        <tr>\n",
       "            <td>1       </td> <td>4    </td>\n",
       "        </tr>\n",
       "        <tr>\n",
       "            <td>0       </td> <td>5    </td>\n",
       "        </tr>\n",
       "        <tr>\n",
       "            <td>0       </td> <td>6    </td>\n",
       "        </tr>\n",
       "        <tr>\n",
       "            <td>0       </td> <td>7    </td>\n",
       "        </tr>\n",
       "        <tr>\n",
       "            <td>1       </td> <td>8    </td>\n",
       "        </tr>\n",
       "        <tr>\n",
       "            <td>5       </td> <td>9    </td>\n",
       "        </tr>\n",
       "        <tr>\n",
       "            <td>1       </td> <td>10   </td>\n",
       "        </tr>\n",
       "    </tbody>\n",
       "</table>\n",
       "<p>... (2 rows omitted)</p>"
      ],
      "text/plain": [
       "Tornados | Month\n",
       "0        | 1\n",
       "0        | 2\n",
       "0        | 3\n",
       "1        | 4\n",
       "0        | 5\n",
       "0        | 6\n",
       "0        | 7\n",
       "1        | 8\n",
       "5        | 9\n",
       "1        | 10\n",
       "... (2 rows omitted)"
      ]
     },
     "execution_count": 8,
     "metadata": {},
     "output_type": "execute_result"
    }
   ],
   "source": [
    "T"
   ]
  },
  {
   "cell_type": "markdown",
   "id": "9c7c77b7-3d45-47af-a0ec-6c92c7d166f8",
   "metadata": {},
   "source": [
    "We can sort using the `sort` method and using either the column label, `'Tornadoes'` in the below case, or the column index which is the first which is inxed as the value `0`"
   ]
  },
  {
   "cell_type": "code",
   "execution_count": 12,
   "id": "205d03a4-76e3-4343-a834-ff74345ea3f9",
   "metadata": {},
   "outputs": [
    {
     "data": {
      "text/html": [
       "<table border=\"1\" class=\"dataframe\">\n",
       "    <thead>\n",
       "        <tr>\n",
       "            <th>Tornados</th> <th>Month</th>\n",
       "        </tr>\n",
       "    </thead>\n",
       "    <tbody>\n",
       "        <tr>\n",
       "            <td>5       </td> <td>9    </td>\n",
       "        </tr>\n",
       "        <tr>\n",
       "            <td>1       </td> <td>4    </td>\n",
       "        </tr>\n",
       "        <tr>\n",
       "            <td>1       </td> <td>8    </td>\n",
       "        </tr>\n",
       "        <tr>\n",
       "            <td>1       </td> <td>10   </td>\n",
       "        </tr>\n",
       "        <tr>\n",
       "            <td>0       </td> <td>1    </td>\n",
       "        </tr>\n",
       "        <tr>\n",
       "            <td>0       </td> <td>2    </td>\n",
       "        </tr>\n",
       "        <tr>\n",
       "            <td>0       </td> <td>3    </td>\n",
       "        </tr>\n",
       "        <tr>\n",
       "            <td>0       </td> <td>5    </td>\n",
       "        </tr>\n",
       "        <tr>\n",
       "            <td>0       </td> <td>6    </td>\n",
       "        </tr>\n",
       "        <tr>\n",
       "            <td>0       </td> <td>7    </td>\n",
       "        </tr>\n",
       "    </tbody>\n",
       "</table>\n",
       "<p>... (2 rows omitted)</p>"
      ],
      "text/plain": [
       "Tornados | Month\n",
       "5        | 9\n",
       "1        | 4\n",
       "1        | 8\n",
       "1        | 10\n",
       "0        | 1\n",
       "0        | 2\n",
       "0        | 3\n",
       "0        | 5\n",
       "0        | 6\n",
       "0        | 7\n",
       "... (2 rows omitted)"
      ]
     },
     "execution_count": 12,
     "metadata": {},
     "output_type": "execute_result"
    }
   ],
   "source": [
    "T.sort(0,descending=True)"
   ]
  },
  {
   "cell_type": "markdown",
   "id": "31fec01a-31e4-49a6-b98d-873633d25764",
   "metadata": {},
   "source": [
    "We can also use a trick with the modulo operator, `%`, and then further apply the `where` method which filters the table to get rows that match the criteria which in this case is that the newly created column, `'Odd'` has the value `0`."
   ]
  },
  {
   "cell_type": "code",
   "execution_count": 26,
   "id": "b30839e7-cb4f-43e0-b702-2c4fa6209715",
   "metadata": {},
   "outputs": [
    {
     "data": {
      "text/html": [
       "<table border=\"1\" class=\"dataframe\">\n",
       "    <thead>\n",
       "        <tr>\n",
       "            <th>Tornados</th> <th>Month</th> <th>Odd</th>\n",
       "        </tr>\n",
       "    </thead>\n",
       "    <tbody>\n",
       "        <tr>\n",
       "            <td>0       </td> <td>2    </td> <td>0   </td>\n",
       "        </tr>\n",
       "        <tr>\n",
       "            <td>1       </td> <td>4    </td> <td>0   </td>\n",
       "        </tr>\n",
       "        <tr>\n",
       "            <td>0       </td> <td>6    </td> <td>0   </td>\n",
       "        </tr>\n",
       "        <tr>\n",
       "            <td>1       </td> <td>8    </td> <td>0   </td>\n",
       "        </tr>\n",
       "        <tr>\n",
       "            <td>1       </td> <td>10   </td> <td>0   </td>\n",
       "        </tr>\n",
       "        <tr>\n",
       "            <td>0       </td> <td>12   </td> <td>0   </td>\n",
       "        </tr>\n",
       "    </tbody>\n",
       "</table>"
      ],
      "text/plain": [
       "Tornados | Month | Odd\n",
       "0        | 2     | 0\n",
       "1        | 4     | 0\n",
       "0        | 6     | 0\n",
       "1        | 8     | 0\n",
       "1        | 10    | 0\n",
       "0        | 12    | 0"
      ]
     },
     "execution_count": 26,
     "metadata": {},
     "output_type": "execute_result"
    }
   ],
   "source": [
    "T=T.with_columns(\"Odd\",T.column(1)%2).where(\"Odd\",0)\n",
    "T"
   ]
  },
  {
   "cell_type": "markdown",
   "id": "b81b1987-aad6-4494-9ab1-7d668d7901d6",
   "metadata": {},
   "source": [
    "### Census data example\n",
    "We can look at complex real world data. In this example we look at [US Census](https://www.census.gov) using the datascience table `read_table` method."
   ]
  },
  {
   "cell_type": "code",
   "execution_count": 13,
   "id": "0c46d4bd-1a53-4fcd-9193-c1d9e3f63c4c",
   "metadata": {},
   "outputs": [
    {
     "data": {
      "text/html": [
       "<table border=\"1\" class=\"dataframe\">\n",
       "    <thead>\n",
       "        <tr>\n",
       "            <th>SEX</th> <th>AGE</th> <th>CENSUS2010POP</th> <th>ESTIMATESBASE2010</th> <th>POPESTIMATE2010</th> <th>POPESTIMATE2011</th> <th>POPESTIMATE2012</th> <th>POPESTIMATE2013</th> <th>POPESTIMATE2014</th> <th>POPESTIMATE2015</th> <th>POPESTIMATE2016</th> <th>POPESTIMATE2017</th> <th>POPESTIMATE2018</th> <th>POPESTIMATE2019</th> <th>POPESTIMATE2020</th>\n",
       "        </tr>\n",
       "    </thead>\n",
       "    <tbody>\n",
       "        <tr>\n",
       "            <td>0   </td> <td>0   </td> <td>3944153      </td> <td>3944160          </td> <td>3951495        </td> <td>3963264        </td> <td>3926731        </td> <td>3931411        </td> <td>3954973        </td> <td>3984144        </td> <td>3963268        </td> <td>3882437        </td> <td>3826908        </td> <td>3762227        </td> <td>3735010        </td>\n",
       "        </tr>\n",
       "        <tr>\n",
       "            <td>0   </td> <td>1   </td> <td>3978070      </td> <td>3978090          </td> <td>3957904        </td> <td>3966768        </td> <td>3978210        </td> <td>3943348        </td> <td>3949559        </td> <td>3973828        </td> <td>4003586        </td> <td>3981864        </td> <td>3897917        </td> <td>3842257        </td> <td>3773884        </td>\n",
       "        </tr>\n",
       "        <tr>\n",
       "            <td>0   </td> <td>2   </td> <td>4096929      </td> <td>4096939          </td> <td>4090799        </td> <td>3971498        </td> <td>3980139        </td> <td>3993047        </td> <td>3960015        </td> <td>3967672        </td> <td>3992657        </td> <td>4021261        </td> <td>3996742        </td> <td>3911822        </td> <td>3853025        </td>\n",
       "        </tr>\n",
       "        <tr>\n",
       "            <td>0   </td> <td>3   </td> <td>4119040      </td> <td>4119051          </td> <td>4111869        </td> <td>4102429        </td> <td>3983007        </td> <td>3992839        </td> <td>4007852        </td> <td>3976277        </td> <td>3984985        </td> <td>4009060        </td> <td>4035053        </td> <td>4009037        </td> <td>3921526        </td>\n",
       "        </tr>\n",
       "        <tr>\n",
       "            <td>0   </td> <td>4   </td> <td>4063170      </td> <td>4063186          </td> <td>4077511        </td> <td>4122252        </td> <td>4112849        </td> <td>3994539        </td> <td>4006407        </td> <td>4022785        </td> <td>3992241        </td> <td>4000394        </td> <td>4021907        </td> <td>4045996        </td> <td>4017847        </td>\n",
       "        </tr>\n",
       "        <tr>\n",
       "            <td>0   </td> <td>5   </td> <td>4056858      </td> <td>4056872          </td> <td>4064653        </td> <td>4087770        </td> <td>4132349        </td> <td>4123745        </td> <td>4007123        </td> <td>4020489        </td> <td>4038022        </td> <td>4007233        </td> <td>4012789        </td> <td>4032231        </td> <td>4054336        </td>\n",
       "        </tr>\n",
       "        <tr>\n",
       "            <td>0   </td> <td>6   </td> <td>4066381      </td> <td>4066412          </td> <td>4073031        </td> <td>4075153        </td> <td>4097860        </td> <td>4142923        </td> <td>4135738        </td> <td>4020428        </td> <td>4034969        </td> <td>4052428        </td> <td>4019106        </td> <td>4022432        </td> <td>4040169        </td>\n",
       "        </tr>\n",
       "        <tr>\n",
       "            <td>0   </td> <td>7   </td> <td>4030579      </td> <td>4030594          </td> <td>4043100        </td> <td>4083399        </td> <td>4085255        </td> <td>4108453        </td> <td>4154947        </td> <td>4148711        </td> <td>4034355        </td> <td>4048430        </td> <td>4063647        </td> <td>4027876        </td> <td>4029753        </td>\n",
       "        </tr>\n",
       "        <tr>\n",
       "            <td>0   </td> <td>8   </td> <td>4046486      </td> <td>4046497          </td> <td>4025624        </td> <td>4053313        </td> <td>4093553        </td> <td>4096033        </td> <td>4120476        </td> <td>4167765        </td> <td>4162142        </td> <td>4047130        </td> <td>4059209        </td> <td>4071894        </td> <td>4034785        </td>\n",
       "        </tr>\n",
       "        <tr>\n",
       "            <td>0   </td> <td>9   </td> <td>4148353      </td> <td>4148369          </td> <td>4125413        </td> <td>4035854        </td> <td>4063662        </td> <td>4104437        </td> <td>4107986        </td> <td>4133426        </td> <td>4181069        </td> <td>4175085        </td> <td>4058207        </td> <td>4067320        </td> <td>4078668        </td>\n",
       "        </tr>\n",
       "    </tbody>\n",
       "</table>\n",
       "<p>... (296 rows omitted)</p>"
      ],
      "text/plain": [
       "SEX  | AGE  | CENSUS2010POP | ESTIMATESBASE2010 | POPESTIMATE2010 | POPESTIMATE2011 | POPESTIMATE2012 | POPESTIMATE2013 | POPESTIMATE2014 | POPESTIMATE2015 | POPESTIMATE2016 | POPESTIMATE2017 | POPESTIMATE2018 | POPESTIMATE2019 | POPESTIMATE2020\n",
       "0    | 0    | 3944153       | 3944160           | 3951495         | 3963264         | 3926731         | 3931411         | 3954973         | 3984144         | 3963268         | 3882437         | 3826908         | 3762227         | 3735010\n",
       "0    | 1    | 3978070       | 3978090           | 3957904         | 3966768         | 3978210         | 3943348         | 3949559         | 3973828         | 4003586         | 3981864         | 3897917         | 3842257         | 3773884\n",
       "0    | 2    | 4096929       | 4096939           | 4090799         | 3971498         | 3980139         | 3993047         | 3960015         | 3967672         | 3992657         | 4021261         | 3996742         | 3911822         | 3853025\n",
       "0    | 3    | 4119040       | 4119051           | 4111869         | 4102429         | 3983007         | 3992839         | 4007852         | 3976277         | 3984985         | 4009060         | 4035053         | 4009037         | 3921526\n",
       "0    | 4    | 4063170       | 4063186           | 4077511         | 4122252         | 4112849         | 3994539         | 4006407         | 4022785         | 3992241         | 4000394         | 4021907         | 4045996         | 4017847\n",
       "0    | 5    | 4056858       | 4056872           | 4064653         | 4087770         | 4132349         | 4123745         | 4007123         | 4020489         | 4038022         | 4007233         | 4012789         | 4032231         | 4054336\n",
       "0    | 6    | 4066381       | 4066412           | 4073031         | 4075153         | 4097860         | 4142923         | 4135738         | 4020428         | 4034969         | 4052428         | 4019106         | 4022432         | 4040169\n",
       "0    | 7    | 4030579       | 4030594           | 4043100         | 4083399         | 4085255         | 4108453         | 4154947         | 4148711         | 4034355         | 4048430         | 4063647         | 4027876         | 4029753\n",
       "0    | 8    | 4046486       | 4046497           | 4025624         | 4053313         | 4093553         | 4096033         | 4120476         | 4167765         | 4162142         | 4047130         | 4059209         | 4071894         | 4034785\n",
       "0    | 9    | 4148353       | 4148369           | 4125413         | 4035854         | 4063662         | 4104437         | 4107986         | 4133426         | 4181069         | 4175085         | 4058207         | 4067320         | 4078668\n",
       "... (296 rows omitted)"
      ]
     },
     "execution_count": 13,
     "metadata": {},
     "output_type": "execute_result"
    }
   ],
   "source": [
    "data = 'http://www2.census.gov/programs-surveys/popest/datasets/2010-2020/national/asrh/nc-est2020-agesex-res.csv'\n",
    "# A local copy can be accessed here in case census.gov moves the file:\n",
    "# data = path_data + 'nc-est2015-agesex-res.csv'\n",
    "\n",
    "full_census_table = Table.read_table(data)\n",
    "full_census_table"
   ]
  },
  {
   "cell_type": "code",
   "execution_count": 14,
   "id": "b7082ced-593c-42f2-8a85-bdf28490f5ac",
   "metadata": {},
   "outputs": [
    {
     "data": {
      "text/html": [
       "<table border=\"1\" class=\"dataframe\">\n",
       "    <thead>\n",
       "        <tr>\n",
       "            <th>SEX</th> <th>AGE</th> <th>POPESTIMATE2010</th> <th>POPESTIMATE2020</th>\n",
       "        </tr>\n",
       "    </thead>\n",
       "    <tbody>\n",
       "        <tr>\n",
       "            <td>0   </td> <td>0   </td> <td>3951495        </td> <td>3735010        </td>\n",
       "        </tr>\n",
       "        <tr>\n",
       "            <td>0   </td> <td>1   </td> <td>3957904        </td> <td>3773884        </td>\n",
       "        </tr>\n",
       "        <tr>\n",
       "            <td>0   </td> <td>2   </td> <td>4090799        </td> <td>3853025        </td>\n",
       "        </tr>\n",
       "        <tr>\n",
       "            <td>0   </td> <td>3   </td> <td>4111869        </td> <td>3921526        </td>\n",
       "        </tr>\n",
       "        <tr>\n",
       "            <td>0   </td> <td>4   </td> <td>4077511        </td> <td>4017847        </td>\n",
       "        </tr>\n",
       "        <tr>\n",
       "            <td>0   </td> <td>5   </td> <td>4064653        </td> <td>4054336        </td>\n",
       "        </tr>\n",
       "        <tr>\n",
       "            <td>0   </td> <td>6   </td> <td>4073031        </td> <td>4040169        </td>\n",
       "        </tr>\n",
       "        <tr>\n",
       "            <td>0   </td> <td>7   </td> <td>4043100        </td> <td>4029753        </td>\n",
       "        </tr>\n",
       "        <tr>\n",
       "            <td>0   </td> <td>8   </td> <td>4025624        </td> <td>4034785        </td>\n",
       "        </tr>\n",
       "        <tr>\n",
       "            <td>0   </td> <td>9   </td> <td>4125413        </td> <td>4078668        </td>\n",
       "        </tr>\n",
       "    </tbody>\n",
       "</table>\n",
       "<p>... (296 rows omitted)</p>"
      ],
      "text/plain": [
       "SEX  | AGE  | POPESTIMATE2010 | POPESTIMATE2020\n",
       "0    | 0    | 3951495         | 3735010\n",
       "0    | 1    | 3957904         | 3773884\n",
       "0    | 2    | 4090799         | 3853025\n",
       "0    | 3    | 4111869         | 3921526\n",
       "0    | 4    | 4077511         | 4017847\n",
       "0    | 5    | 4064653         | 4054336\n",
       "0    | 6    | 4073031         | 4040169\n",
       "0    | 7    | 4043100         | 4029753\n",
       "0    | 8    | 4025624         | 4034785\n",
       "0    | 9    | 4125413         | 4078668\n",
       "... (296 rows omitted)"
      ]
     },
     "execution_count": 14,
     "metadata": {},
     "output_type": "execute_result"
    }
   ],
   "source": [
    "partial_census_table = full_census_table.select('SEX', 'AGE', 'POPESTIMATE2010', 'POPESTIMATE2020')\n",
    "partial_census_table"
   ]
  },
  {
   "cell_type": "code",
   "execution_count": 15,
   "id": "587dd336-4bf0-4b72-9522-714d15ba2344",
   "metadata": {},
   "outputs": [
    {
     "data": {
      "text/plain": [
       "array([   0,    3,    6,    9,   12,   15,   18,   21,   24,   27,   30,\n",
       "         33,   36,   39,   42,   45,   48,   51,   54,   57,   60,   63,\n",
       "         66,   69,   72,   75,   78,   81,   84,   87,   90,   93,   96,\n",
       "         99,  102,  105,  108,  111,  114,  117,  120,  123,  126,  129,\n",
       "        132,  135,  138,  141,  144,  147,  150,  153,  156,  159,  162,\n",
       "        165,  168,  171,  174,  177,  180,  183,  186,  189,  192,  195,\n",
       "        198,  201,  204,  207,  210,  213,  216,  219,  222,  225,  228,\n",
       "        231,  234,  237,  240,  243,  246,  249,  252,  255,  258,  261,\n",
       "        264,  267,  270,  273,  276,  279,  282,  285,  288,  291,  294,\n",
       "        297,  300, 2997,    0,    3,    6,    9,   12,   15,   18,   21,\n",
       "         24,   27,   30,   33,   36,   39,   42,   45,   48,   51,   54,\n",
       "         57,   60,   63,   66,   69,   72,   75,   78,   81,   84,   87,\n",
       "         90,   93,   96,   99,  102,  105,  108,  111,  114,  117,  120,\n",
       "        123,  126,  129,  132,  135,  138,  141,  144,  147,  150,  153,\n",
       "        156,  159,  162,  165,  168,  171,  174,  177,  180,  183,  186,\n",
       "        189,  192,  195,  198,  201,  204,  207,  210,  213,  216,  219,\n",
       "        222,  225,  228,  231,  234,  237,  240,  243,  246,  249,  252,\n",
       "        255,  258,  261,  264,  267,  270,  273,  276,  279,  282,  285,\n",
       "        288,  291,  294,  297,  300, 2997,    0,    3,    6,    9,   12,\n",
       "         15,   18,   21,   24,   27,   30,   33,   36,   39,   42,   45,\n",
       "         48,   51,   54,   57,   60,   63,   66,   69,   72,   75,   78,\n",
       "         81,   84,   87,   90,   93,   96,   99,  102,  105,  108,  111,\n",
       "        114,  117,  120,  123,  126,  129,  132,  135,  138,  141,  144,\n",
       "        147,  150,  153,  156,  159,  162,  165,  168,  171,  174,  177,\n",
       "        180,  183,  186,  189,  192,  195,  198,  201,  204,  207,  210,\n",
       "        213,  216,  219,  222,  225,  228,  231,  234,  237,  240,  243,\n",
       "        246,  249,  252,  255,  258,  261,  264,  267,  270,  273,  276,\n",
       "        279,  282,  285,  288,  291,  294,  297,  300, 2997])"
      ]
     },
     "execution_count": 15,
     "metadata": {},
     "output_type": "execute_result"
    }
   ],
   "source": [
    "3*partial_census_table.column(\"AGE\")"
   ]
  },
  {
   "cell_type": "code",
   "execution_count": 16,
   "id": "4dcc5207-4254-4c77-b035-699a9577963f",
   "metadata": {},
   "outputs": [
    {
     "data": {
      "text/html": [
       "<table border=\"1\" class=\"dataframe\">\n",
       "    <thead>\n",
       "        <tr>\n",
       "            <th>GENDER</th> <th>AGE</th> <th>2010</th> <th>2020</th>\n",
       "        </tr>\n",
       "    </thead>\n",
       "    <tbody>\n",
       "        <tr>\n",
       "            <td>0     </td> <td>0   </td> <td>3951495</td> <td>3735010</td>\n",
       "        </tr>\n",
       "        <tr>\n",
       "            <td>0     </td> <td>1   </td> <td>3957904</td> <td>3773884</td>\n",
       "        </tr>\n",
       "        <tr>\n",
       "            <td>0     </td> <td>2   </td> <td>4090799</td> <td>3853025</td>\n",
       "        </tr>\n",
       "        <tr>\n",
       "            <td>0     </td> <td>3   </td> <td>4111869</td> <td>3921526</td>\n",
       "        </tr>\n",
       "        <tr>\n",
       "            <td>0     </td> <td>4   </td> <td>4077511</td> <td>4017847</td>\n",
       "        </tr>\n",
       "        <tr>\n",
       "            <td>0     </td> <td>5   </td> <td>4064653</td> <td>4054336</td>\n",
       "        </tr>\n",
       "        <tr>\n",
       "            <td>0     </td> <td>6   </td> <td>4073031</td> <td>4040169</td>\n",
       "        </tr>\n",
       "        <tr>\n",
       "            <td>0     </td> <td>7   </td> <td>4043100</td> <td>4029753</td>\n",
       "        </tr>\n",
       "        <tr>\n",
       "            <td>0     </td> <td>8   </td> <td>4025624</td> <td>4034785</td>\n",
       "        </tr>\n",
       "        <tr>\n",
       "            <td>0     </td> <td>9   </td> <td>4125413</td> <td>4078668</td>\n",
       "        </tr>\n",
       "    </tbody>\n",
       "</table>\n",
       "<p>... (296 rows omitted)</p>"
      ],
      "text/plain": [
       "GENDER | AGE  | 2010    | 2020\n",
       "0      | 0    | 3951495 | 3735010\n",
       "0      | 1    | 3957904 | 3773884\n",
       "0      | 2    | 4090799 | 3853025\n",
       "0      | 3    | 4111869 | 3921526\n",
       "0      | 4    | 4077511 | 4017847\n",
       "0      | 5    | 4064653 | 4054336\n",
       "0      | 6    | 4073031 | 4040169\n",
       "0      | 7    | 4043100 | 4029753\n",
       "0      | 8    | 4025624 | 4034785\n",
       "0      | 9    | 4125413 | 4078668\n",
       "... (296 rows omitted)"
      ]
     },
     "execution_count": 16,
     "metadata": {},
     "output_type": "execute_result"
    }
   ],
   "source": [
    "us_pop = partial_census_table.relabeled('POPESTIMATE2010', '2010').relabeled('POPESTIMATE2020', '2020').relabeled('SEX','GENDER')\n",
    "us_pop"
   ]
  },
  {
   "cell_type": "code",
   "execution_count": 17,
   "id": "0c463bc2-3e1c-4755-bfca-6ffe604cefd8",
   "metadata": {},
   "outputs": [
    {
     "data": {
      "text/plain": [
       "datascience.tables.Table"
      ]
     },
     "execution_count": 17,
     "metadata": {},
     "output_type": "execute_result"
    }
   ],
   "source": [
    "type(us_pop)"
   ]
  },
  {
   "cell_type": "code",
   "execution_count": 18,
   "id": "5af64f24-76ab-49ef-8bd1-82261306e7b7",
   "metadata": {},
   "outputs": [
    {
     "data": {
      "text/html": [
       "<table border=\"1\" class=\"dataframe\">\n",
       "    <thead>\n",
       "        <tr>\n",
       "            <th>GENDER</th> <th>AGE</th> <th>2010</th> <th>2020</th>\n",
       "        </tr>\n",
       "    </thead>\n",
       "    <tbody>\n",
       "        <tr>\n",
       "            <td>0     </td> <td>80  </td> <td>1319720</td> <td>1526957</td>\n",
       "        </tr>\n",
       "        <tr>\n",
       "            <td>1     </td> <td>80  </td> <td>549205 </td> <td>663256 </td>\n",
       "        </tr>\n",
       "        <tr>\n",
       "            <td>2     </td> <td>80  </td> <td>770515 </td> <td>863701 </td>\n",
       "        </tr>\n",
       "    </tbody>\n",
       "</table>"
      ],
      "text/plain": [
       "GENDER | AGE  | 2010    | 2020\n",
       "0      | 80   | 1319720 | 1526957\n",
       "1      | 80   | 549205  | 663256\n",
       "2      | 80   | 770515  | 863701"
      ]
     },
     "execution_count": 18,
     "metadata": {},
     "output_type": "execute_result"
    }
   ],
   "source": [
    "us_pop.where('AGE',80)"
   ]
  },
  {
   "cell_type": "code",
   "execution_count": 19,
   "id": "fb08c304-2f6d-4bce-99ff-b219828b70d6",
   "metadata": {},
   "outputs": [
    {
     "data": {
      "text/html": [
       "<table border=\"1\" class=\"dataframe\">\n",
       "    <thead>\n",
       "        <tr>\n",
       "            <th>GENDER</th> <th>AGE</th> <th>2010</th> <th>2020</th>\n",
       "        </tr>\n",
       "    </thead>\n",
       "    <tbody>\n",
       "        <tr>\n",
       "            <td>0     </td> <td>70  </td> <td>2062464</td> <td>3192029</td>\n",
       "        </tr>\n",
       "        <tr>\n",
       "            <td>1     </td> <td>70  </td> <td>954009 </td> <td>1485086</td>\n",
       "        </tr>\n",
       "        <tr>\n",
       "            <td>2     </td> <td>70  </td> <td>1108455</td> <td>1706943</td>\n",
       "        </tr>\n",
       "    </tbody>\n",
       "</table>"
      ],
      "text/plain": [
       "GENDER | AGE  | 2010    | 2020\n",
       "0      | 70   | 2062464 | 3192029\n",
       "1      | 70   | 954009  | 1485086\n",
       "2      | 70   | 1108455 | 1706943"
      ]
     },
     "execution_count": 19,
     "metadata": {},
     "output_type": "execute_result"
    }
   ],
   "source": [
    "us_pop.where('AGE',70)"
   ]
  },
  {
   "cell_type": "code",
   "execution_count": null,
   "id": "fce2a9a6-118d-4dea-89bb-7fc4ac75970d",
   "metadata": {},
   "outputs": [],
   "source": []
  }
 ],
 "metadata": {
  "kernelspec": {
   "display_name": "Python 3 (ipykernel)",
   "language": "python",
   "name": "python3"
  },
  "language_info": {
   "codemirror_mode": {
    "name": "ipython",
    "version": 3
   },
   "file_extension": ".py",
   "mimetype": "text/x-python",
   "name": "python",
   "nbconvert_exporter": "python",
   "pygments_lexer": "ipython3",
   "version": "3.10.4"
  }
 },
 "nbformat": 4,
 "nbformat_minor": 5
}
