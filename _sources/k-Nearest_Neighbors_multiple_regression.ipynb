{
 "cells": [
  {
   "cell_type": "markdown",
   "id": "f7ec1b54-1268-483f-b3b9-9967eef5dab9",
   "metadata": {},
   "source": [
    "## Nearest Neighbor Regression"
   ]
  },
  {
   "cell_type": "markdown",
   "id": "0bc4652d-88c6-4f0b-aa71-ee6b81080ae9",
   "metadata": {},
   "source": [
    "<div class=\"alert alert-info\">\n",
    "  <strong>Nearest neighbor</strong>\n",
    "</div>"
   ]
  },
  {
   "cell_type": "markdown",
   "id": "c14d53f6-68e8-4476-bac4-22dd07a6afab",
   "metadata": {},
   "source": [
    "## Learning from training data\n",
    "A key concept in machine learning is using a subset of a dataset to train an algorithm to make estimates on a separate set of test data. The quality of the machine learning and algorithm can be assesed based on the accuracy of the predictions made on test data. Many times there are also parameters sometimes termed hyper-parameters which can be optimized through an iterative approach on test or validation data. In practice a dataset is randomly split into training and test sets using sampling. "
   ]
  },
  {
   "cell_type": "markdown",
   "id": "8497edf8-c3c4-491b-80d7-e3bb3350b971",
   "metadata": {},
   "source": [
    "### k nearest neighbor\n",
    "We will examine one machine learning algorithm in the laboratory, k nearest neighbor. Many of the concepts are applicable to the broad range of machine learning algorithms available."
   ]
  },
  {
   "cell_type": "markdown",
   "id": "ea5250c7-b369-4fff-9744-51c1f52367bb",
   "metadata": {},
   "source": [
    "### Nearest neighbor concept<a id='NNconcept'></a>\n",
    "The training examines the characteristics of *k* nearest neighbors to the data point for which a prediction will be made. Nearness is measured using several different [metrics](https://www.nhm.uio.no/english/research/infrastructure/past/help/similarity.html) with Euclidean distance being a common one for numerical attributes.  \n",
    "Euclidean distance:   \n",
    "1-D: \n",
    "$$ \n",
    "d(p,q) = \\sqrt{(p-q)^{2}} \n",
    "\\label{eq:distance_1D} \\tag{1}\n",
    "$$   \n",
    " 2-D: \n",
    " $$ \n",
    " d(p,q) = \\sqrt{(p_1-q_1)^{2}+(p_2-q_2)^{2}} \n",
    " \\label{eq:distance_2D} \\tag{2}\n",
    " $$ \n",
    " \n",
    " For multiple points (rows, multidimensional):\n",
    " $$ \n",
    " d(p_i,q_i) = \\sqrt{\\sum_{i}{((p_i-q_i)^{2})}} \n",
    "  \\label{eq:distance_multiD} \\tag{3}\n",
    " $$ "
   ]
  },
  {
   "cell_type": "code",
   "execution_count": 1,
   "id": "8a187a9b-5450-485a-a74b-12fd812d5326",
   "metadata": {
    "tags": []
   },
   "outputs": [],
   "source": [
    "import numpy as np\n",
    "from datascience import *\n",
    "import matplotlib\n",
    "%matplotlib inline\n",
    "import matplotlib.pyplot as plt\n",
    "plt.style.use('ggplot')"
   ]
  },
  {
   "cell_type": "markdown",
   "id": "baceef92-0a58-45c2-b1ba-1605c9cae0f4",
   "metadata": {},
   "source": [
    "#### Distance function inpired from above"
   ]
  },
  {
   "cell_type": "code",
   "execution_count": 2,
   "id": "3f9d84f1-cbdc-4159-b9f3-622fa9aca848",
   "metadata": {
    "tags": []
   },
   "outputs": [],
   "source": [
    "def distance(pt1, pt2):\n",
    "    \"\"\"The distance between two points, represented as arrays.\"\"\"\n",
    "    return np.sqrt(np.sum((pt2-pt1)**2))"
   ]
  },
  {
   "cell_type": "markdown",
   "id": "d41bc66f-29c1-43e2-837a-ef0aee83d7b2",
   "metadata": {},
   "source": [
    "### Nearest neighbor Functions\n",
    "These cells create the complete algorithm and use as part of a nearest neighbor toolbox"
   ]
  },
  {
   "cell_type": "code",
   "execution_count": 3,
   "id": "3b0ff24e-fa02-4da7-94b3-686577e949cc",
   "metadata": {
    "tags": []
   },
   "outputs": [],
   "source": [
    "def row_distance(row1, row2):\n",
    "    \"\"\"The distance between two rows of a table.\"\"\"\n",
    "    return distance(np.array(row1), np.array(row2)) # Need to convert rows into arrays\n",
    "\n",
    "def distances(training, test, target, features):\n",
    "    \"\"\"Compute the distance from test for each row in training.\"\"\"\n",
    "    dists = []\n",
    "    attributes = training.select(features)\n",
    "    for row in attributes.rows:\n",
    "        dists.append(row_distance(row, test))\n",
    "    return training.with_column('Distance', dists)\n",
    "\n",
    "def closest(training, test, k, target, features):\n",
    "    \"\"\"Return a table of the k closest neighbors to example row from test data.\"\"\"\n",
    "    return distances(training, test, target, features).sort('Distance').take(np.arange(k))"
   ]
  },
  {
   "cell_type": "markdown",
   "id": "e5dc6f23-e05d-43c0-941c-5e6ec75fe0a1",
   "metadata": {},
   "source": [
    "### Prediction Functions"
   ]
  },
  {
   "cell_type": "code",
   "execution_count": 4,
   "id": "c042158e-459f-4689-8c9c-fb91aad12b2f",
   "metadata": {
    "tags": []
   },
   "outputs": [],
   "source": [
    "def predict_knn(row, train, test, k=5, pr=False):\n",
    "    \"\"\"Return the predicting value or class among the \n",
    "     k nearest neighbors, pr=1 prints\"\"\"\n",
    "    predict = np.average(closest(train, test.select(features).row(row), k , target, features).column(target[0]))\n",
    "    if pr:\n",
    "            print(f'Predicting target value, {target[0]}, for row = {row} using k={k} with features: {features}')\n",
    "            print(f'Actual value: {test.select(target).take(row)[0][0]:.2f}')\n",
    "            print(f'Predicted value: {predict:.2f}')\n",
    "            print(f'Closest neighbor values: {closest(train, test.select(features).row(row), k , target, features).column(target[0])}')\n",
    "    return predict"
   ]
  },
  {
   "cell_type": "code",
   "execution_count": 5,
   "id": "08514f15-155b-401d-90c6-03c9c7d4078e",
   "metadata": {
    "tags": []
   },
   "outputs": [],
   "source": [
    "def predict_knn_class(row, train, test, k=5, pr=False):\n",
    "    \"\"\"Return the predicting value or class among the \n",
    "     k nearest neighbors, pr=1 prints\"\"\"\n",
    "    closestclass = list(closest(train, test.select(features).row(row), k , target, features).column(target[0]))\n",
    "    if pr:\n",
    "            print(f'Predicting target value, {target[0]}, for row = {row} using k={k} with features: {features}')\n",
    "            print(f'Actual classification: {test.select(target).take(row)[0][0]}')\n",
    "            print(f'Predicted classification: {max(closestclass, key=closestclass.count)}')\n",
    "            print(f'Closest classifications: {closestclass}')\n",
    "    return max(closestclass, key=closestclass.count)"
   ]
  },
  {
   "cell_type": "markdown",
   "id": "97ee9be8-2227-42ae-80af-187224e8f52b",
   "metadata": {},
   "source": [
    "### Regression Functions\n",
    "Use as part of a toolbox for later analysis and the project"
   ]
  },
  {
   "cell_type": "code",
   "execution_count": 6,
   "id": "d242a9da-5878-4397-bc57-663a6428259e",
   "metadata": {
    "tags": []
   },
   "outputs": [],
   "source": [
    "def standard_units(any_array):\n",
    "    \"Convert any array of numbers to standard units.\"\n",
    "    return (any_array - np.mean(any_array))/np.std(any_array)  \n",
    "    \n",
    "def correlation(t, label_x, label_y):\n",
    "    \"\"\"Compute the correlation between two variables from a Table with column label_x and label_y..\"\"\"\n",
    "    return np.mean(standard_units(t.column(label_x))*standard_units(t.column(label_y)))\n",
    "\n",
    "def slope(t, label_x, label_y):\n",
    "    \"\"\"Compute the slope between two variables from a Table with column label_x and label_y.\"\"\"\n",
    "    r = correlation(t, label_x, label_y)\n",
    "    return r*np.std(t.column(label_y))/np.std(t.column(label_x))\n",
    "\n",
    "def intercept(t, label_x, label_y):\n",
    "    \"\"\"Compute the slope between two variables from a Table with column label_x and label_y.\"\"\"\n",
    "    return np.mean(t.column(label_y)) - slope(t, label_x, label_y)*np.mean(t.column(label_x))"
   ]
  },
  {
   "cell_type": "markdown",
   "id": "81c4972e-0f2d-4db8-a74d-24b0c7fb4acc",
   "metadata": {},
   "source": [
    "---\n",
    "---\n",
    "### <font color='brown'>Nearest neighbor regression example\n",
    "---"
   ]
  },
  {
   "cell_type": "markdown",
   "id": "465e03b1-c8b9-40dd-b16d-e2cde533271f",
   "metadata": {},
   "source": [
    "#### We will look at home sales in Ames, Iowa from 2006-2010. The dataset is described [here](https://jse.amstat.org/v19n3/decock.pdf)"
   ]
  },
  {
   "cell_type": "code",
   "execution_count": 7,
   "id": "1680e041-536d-422d-9dcb-0225070f0759",
   "metadata": {
    "tags": []
   },
   "outputs": [
    {
     "data": {
      "text/html": [
       "<table border=\"1\" class=\"dataframe\">\n",
       "    <thead>\n",
       "        <tr>\n",
       "            <th>Order</th> <th>PID</th> <th>MS SubClass</th> <th>MS Zoning</th> <th>Lot Frontage</th> <th>Lot Area</th> <th>Street</th> <th>Alley</th> <th>Lot Shape</th> <th>Land Contour</th> <th>Utilities</th> <th>Lot Config</th> <th>Land Slope</th> <th>Neighborhood</th> <th>Condition 1</th> <th>Condition 2</th> <th>Bldg Type</th> <th>House Style</th> <th>Overall Qual</th> <th>Overall Cond</th> <th>Year Built</th> <th>Year Remod/Add</th> <th>Roof Style</th> <th>Roof Matl</th> <th>Exterior 1st</th> <th>Exterior 2nd</th> <th>Mas Vnr Type</th> <th>Mas Vnr Area</th> <th>Exter Qual</th> <th>Exter Cond</th> <th>Foundation</th> <th>Bsmt Qual</th> <th>Bsmt Cond</th> <th>Bsmt Exposure</th> <th>BsmtFin Type 1</th> <th>BsmtFin SF 1</th> <th>BsmtFin Type 2</th> <th>BsmtFin SF 2</th> <th>Bsmt Unf SF</th> <th>Total Bsmt SF</th> <th>Heating</th> <th>Heating QC</th> <th>Central Air</th> <th>Electrical</th> <th>1st Flr SF</th> <th>2nd Flr SF</th> <th>Low Qual Fin SF</th> <th>Gr Liv Area</th> <th>Bsmt Full Bath</th> <th>Bsmt Half Bath</th> <th>Full Bath</th> <th>Half Bath</th> <th>Bedroom AbvGr</th> <th>Kitchen AbvGr</th> <th>Kitchen Qual</th> <th>TotRms AbvGrd</th> <th>Functional</th> <th>Fireplaces</th> <th>Fireplace Qu</th> <th>Garage Type</th> <th>Garage Yr Blt</th> <th>Garage Finish</th> <th>Garage Cars</th> <th>Garage Area</th> <th>Garage Qual</th> <th>Garage Cond</th> <th>Paved Drive</th> <th>Wood Deck SF</th> <th>Open Porch SF</th> <th>Enclosed Porch</th> <th>3Ssn Porch</th> <th>Screen Porch</th> <th>Pool Area</th> <th>Pool QC</th> <th>Fence</th> <th>Misc Feature</th> <th>Misc Val</th> <th>Mo Sold</th> <th>Yr Sold</th> <th>Sale Type</th> <th>Sale Condition</th> <th>SalePrice</th>\n",
       "        </tr>\n",
       "    </thead>\n",
       "    <tbody>\n",
       "        <tr>\n",
       "            <td>1    </td> <td>526301100</td> <td>20         </td> <td>RL       </td> <td>141         </td> <td>31770   </td> <td>Pave  </td> <td>nan  </td> <td>IR1      </td> <td>Lvl         </td> <td>AllPub   </td> <td>Corner    </td> <td>Gtl       </td> <td>NAmes       </td> <td>Norm       </td> <td>Norm       </td> <td>1Fam     </td> <td>1Story     </td> <td>6           </td> <td>5           </td> <td>1960      </td> <td>1960          </td> <td>Hip       </td> <td>CompShg  </td> <td>BrkFace     </td> <td>Plywood     </td> <td>Stone       </td> <td>112         </td> <td>TA        </td> <td>TA        </td> <td>CBlock    </td> <td>TA       </td> <td>Gd       </td> <td>Gd           </td> <td>BLQ           </td> <td>639         </td> <td>Unf           </td> <td>0           </td> <td>441        </td> <td>1080         </td> <td>GasA   </td> <td>Fa        </td> <td>Y          </td> <td>SBrkr     </td> <td>1656      </td> <td>0         </td> <td>0              </td> <td>1656       </td> <td>1             </td> <td>0             </td> <td>1        </td> <td>0        </td> <td>3            </td> <td>1            </td> <td>TA          </td> <td>7            </td> <td>Typ       </td> <td>2         </td> <td>Gd          </td> <td>Attchd     </td> <td>1960         </td> <td>Fin          </td> <td>2          </td> <td>528        </td> <td>TA         </td> <td>TA         </td> <td>P          </td> <td>210         </td> <td>62           </td> <td>0             </td> <td>0         </td> <td>0           </td> <td>0        </td> <td>nan    </td> <td>nan  </td> <td>nan         </td> <td>0       </td> <td>5      </td> <td>2010   </td> <td>WD       </td> <td>Normal        </td> <td>215000   </td>\n",
       "        </tr>\n",
       "        <tr>\n",
       "            <td>2    </td> <td>526350040</td> <td>20         </td> <td>RH       </td> <td>80          </td> <td>11622   </td> <td>Pave  </td> <td>nan  </td> <td>Reg      </td> <td>Lvl         </td> <td>AllPub   </td> <td>Inside    </td> <td>Gtl       </td> <td>NAmes       </td> <td>Feedr      </td> <td>Norm       </td> <td>1Fam     </td> <td>1Story     </td> <td>5           </td> <td>6           </td> <td>1961      </td> <td>1961          </td> <td>Gable     </td> <td>CompShg  </td> <td>VinylSd     </td> <td>VinylSd     </td> <td>nan         </td> <td>0           </td> <td>TA        </td> <td>TA        </td> <td>CBlock    </td> <td>TA       </td> <td>TA       </td> <td>No           </td> <td>Rec           </td> <td>468         </td> <td>LwQ           </td> <td>144         </td> <td>270        </td> <td>882          </td> <td>GasA   </td> <td>TA        </td> <td>Y          </td> <td>SBrkr     </td> <td>896       </td> <td>0         </td> <td>0              </td> <td>896        </td> <td>0             </td> <td>0             </td> <td>1        </td> <td>0        </td> <td>2            </td> <td>1            </td> <td>TA          </td> <td>5            </td> <td>Typ       </td> <td>0         </td> <td>nan         </td> <td>Attchd     </td> <td>1961         </td> <td>Unf          </td> <td>1          </td> <td>730        </td> <td>TA         </td> <td>TA         </td> <td>Y          </td> <td>140         </td> <td>0            </td> <td>0             </td> <td>0         </td> <td>120         </td> <td>0        </td> <td>nan    </td> <td>MnPrv</td> <td>nan         </td> <td>0       </td> <td>6      </td> <td>2010   </td> <td>WD       </td> <td>Normal        </td> <td>105000   </td>\n",
       "        </tr>\n",
       "        <tr>\n",
       "            <td>3    </td> <td>526351010</td> <td>20         </td> <td>RL       </td> <td>81          </td> <td>14267   </td> <td>Pave  </td> <td>nan  </td> <td>IR1      </td> <td>Lvl         </td> <td>AllPub   </td> <td>Corner    </td> <td>Gtl       </td> <td>NAmes       </td> <td>Norm       </td> <td>Norm       </td> <td>1Fam     </td> <td>1Story     </td> <td>6           </td> <td>6           </td> <td>1958      </td> <td>1958          </td> <td>Hip       </td> <td>CompShg  </td> <td>Wd Sdng     </td> <td>Wd Sdng     </td> <td>BrkFace     </td> <td>108         </td> <td>TA        </td> <td>TA        </td> <td>CBlock    </td> <td>TA       </td> <td>TA       </td> <td>No           </td> <td>ALQ           </td> <td>923         </td> <td>Unf           </td> <td>0           </td> <td>406        </td> <td>1329         </td> <td>GasA   </td> <td>TA        </td> <td>Y          </td> <td>SBrkr     </td> <td>1329      </td> <td>0         </td> <td>0              </td> <td>1329       </td> <td>0             </td> <td>0             </td> <td>1        </td> <td>1        </td> <td>3            </td> <td>1            </td> <td>Gd          </td> <td>6            </td> <td>Typ       </td> <td>0         </td> <td>nan         </td> <td>Attchd     </td> <td>1958         </td> <td>Unf          </td> <td>1          </td> <td>312        </td> <td>TA         </td> <td>TA         </td> <td>Y          </td> <td>393         </td> <td>36           </td> <td>0             </td> <td>0         </td> <td>0           </td> <td>0        </td> <td>nan    </td> <td>nan  </td> <td>Gar2        </td> <td>12500   </td> <td>6      </td> <td>2010   </td> <td>WD       </td> <td>Normal        </td> <td>172000   </td>\n",
       "        </tr>\n",
       "        <tr>\n",
       "            <td>4    </td> <td>526353030</td> <td>20         </td> <td>RL       </td> <td>93          </td> <td>11160   </td> <td>Pave  </td> <td>nan  </td> <td>Reg      </td> <td>Lvl         </td> <td>AllPub   </td> <td>Corner    </td> <td>Gtl       </td> <td>NAmes       </td> <td>Norm       </td> <td>Norm       </td> <td>1Fam     </td> <td>1Story     </td> <td>7           </td> <td>5           </td> <td>1968      </td> <td>1968          </td> <td>Hip       </td> <td>CompShg  </td> <td>BrkFace     </td> <td>BrkFace     </td> <td>nan         </td> <td>0           </td> <td>Gd        </td> <td>TA        </td> <td>CBlock    </td> <td>TA       </td> <td>TA       </td> <td>No           </td> <td>ALQ           </td> <td>1065        </td> <td>Unf           </td> <td>0           </td> <td>1045       </td> <td>2110         </td> <td>GasA   </td> <td>Ex        </td> <td>Y          </td> <td>SBrkr     </td> <td>2110      </td> <td>0         </td> <td>0              </td> <td>2110       </td> <td>1             </td> <td>0             </td> <td>2        </td> <td>1        </td> <td>3            </td> <td>1            </td> <td>Ex          </td> <td>8            </td> <td>Typ       </td> <td>2         </td> <td>TA          </td> <td>Attchd     </td> <td>1968         </td> <td>Fin          </td> <td>2          </td> <td>522        </td> <td>TA         </td> <td>TA         </td> <td>Y          </td> <td>0           </td> <td>0            </td> <td>0             </td> <td>0         </td> <td>0           </td> <td>0        </td> <td>nan    </td> <td>nan  </td> <td>nan         </td> <td>0       </td> <td>4      </td> <td>2010   </td> <td>WD       </td> <td>Normal        </td> <td>244000   </td>\n",
       "        </tr>\n",
       "        <tr>\n",
       "            <td>5    </td> <td>527105010</td> <td>60         </td> <td>RL       </td> <td>74          </td> <td>13830   </td> <td>Pave  </td> <td>nan  </td> <td>IR1      </td> <td>Lvl         </td> <td>AllPub   </td> <td>Inside    </td> <td>Gtl       </td> <td>Gilbert     </td> <td>Norm       </td> <td>Norm       </td> <td>1Fam     </td> <td>2Story     </td> <td>5           </td> <td>5           </td> <td>1997      </td> <td>1998          </td> <td>Gable     </td> <td>CompShg  </td> <td>VinylSd     </td> <td>VinylSd     </td> <td>nan         </td> <td>0           </td> <td>TA        </td> <td>TA        </td> <td>PConc     </td> <td>Gd       </td> <td>TA       </td> <td>No           </td> <td>GLQ           </td> <td>791         </td> <td>Unf           </td> <td>0           </td> <td>137        </td> <td>928          </td> <td>GasA   </td> <td>Gd        </td> <td>Y          </td> <td>SBrkr     </td> <td>928       </td> <td>701       </td> <td>0              </td> <td>1629       </td> <td>0             </td> <td>0             </td> <td>2        </td> <td>1        </td> <td>3            </td> <td>1            </td> <td>TA          </td> <td>6            </td> <td>Typ       </td> <td>1         </td> <td>TA          </td> <td>Attchd     </td> <td>1997         </td> <td>Fin          </td> <td>2          </td> <td>482        </td> <td>TA         </td> <td>TA         </td> <td>Y          </td> <td>212         </td> <td>34           </td> <td>0             </td> <td>0         </td> <td>0           </td> <td>0        </td> <td>nan    </td> <td>MnPrv</td> <td>nan         </td> <td>0       </td> <td>3      </td> <td>2010   </td> <td>WD       </td> <td>Normal        </td> <td>189900   </td>\n",
       "        </tr>\n",
       "        <tr>\n",
       "            <td>6    </td> <td>527105030</td> <td>60         </td> <td>RL       </td> <td>78          </td> <td>9978    </td> <td>Pave  </td> <td>nan  </td> <td>IR1      </td> <td>Lvl         </td> <td>AllPub   </td> <td>Inside    </td> <td>Gtl       </td> <td>Gilbert     </td> <td>Norm       </td> <td>Norm       </td> <td>1Fam     </td> <td>2Story     </td> <td>6           </td> <td>6           </td> <td>1998      </td> <td>1998          </td> <td>Gable     </td> <td>CompShg  </td> <td>VinylSd     </td> <td>VinylSd     </td> <td>BrkFace     </td> <td>20          </td> <td>TA        </td> <td>TA        </td> <td>PConc     </td> <td>TA       </td> <td>TA       </td> <td>No           </td> <td>GLQ           </td> <td>602         </td> <td>Unf           </td> <td>0           </td> <td>324        </td> <td>926          </td> <td>GasA   </td> <td>Ex        </td> <td>Y          </td> <td>SBrkr     </td> <td>926       </td> <td>678       </td> <td>0              </td> <td>1604       </td> <td>0             </td> <td>0             </td> <td>2        </td> <td>1        </td> <td>3            </td> <td>1            </td> <td>Gd          </td> <td>7            </td> <td>Typ       </td> <td>1         </td> <td>Gd          </td> <td>Attchd     </td> <td>1998         </td> <td>Fin          </td> <td>2          </td> <td>470        </td> <td>TA         </td> <td>TA         </td> <td>Y          </td> <td>360         </td> <td>36           </td> <td>0             </td> <td>0         </td> <td>0           </td> <td>0        </td> <td>nan    </td> <td>nan  </td> <td>nan         </td> <td>0       </td> <td>6      </td> <td>2010   </td> <td>WD       </td> <td>Normal        </td> <td>195500   </td>\n",
       "        </tr>\n",
       "        <tr>\n",
       "            <td>7    </td> <td>527127150</td> <td>120        </td> <td>RL       </td> <td>41          </td> <td>4920    </td> <td>Pave  </td> <td>nan  </td> <td>Reg      </td> <td>Lvl         </td> <td>AllPub   </td> <td>Inside    </td> <td>Gtl       </td> <td>StoneBr     </td> <td>Norm       </td> <td>Norm       </td> <td>TwnhsE   </td> <td>1Story     </td> <td>8           </td> <td>5           </td> <td>2001      </td> <td>2001          </td> <td>Gable     </td> <td>CompShg  </td> <td>CemntBd     </td> <td>CmentBd     </td> <td>nan         </td> <td>0           </td> <td>Gd        </td> <td>TA        </td> <td>PConc     </td> <td>Gd       </td> <td>TA       </td> <td>Mn           </td> <td>GLQ           </td> <td>616         </td> <td>Unf           </td> <td>0           </td> <td>722        </td> <td>1338         </td> <td>GasA   </td> <td>Ex        </td> <td>Y          </td> <td>SBrkr     </td> <td>1338      </td> <td>0         </td> <td>0              </td> <td>1338       </td> <td>1             </td> <td>0             </td> <td>2        </td> <td>0        </td> <td>2            </td> <td>1            </td> <td>Gd          </td> <td>6            </td> <td>Typ       </td> <td>0         </td> <td>nan         </td> <td>Attchd     </td> <td>2001         </td> <td>Fin          </td> <td>2          </td> <td>582        </td> <td>TA         </td> <td>TA         </td> <td>Y          </td> <td>0           </td> <td>0            </td> <td>170           </td> <td>0         </td> <td>0           </td> <td>0        </td> <td>nan    </td> <td>nan  </td> <td>nan         </td> <td>0       </td> <td>4      </td> <td>2010   </td> <td>WD       </td> <td>Normal        </td> <td>213500   </td>\n",
       "        </tr>\n",
       "        <tr>\n",
       "            <td>8    </td> <td>527145080</td> <td>120        </td> <td>RL       </td> <td>43          </td> <td>5005    </td> <td>Pave  </td> <td>nan  </td> <td>IR1      </td> <td>HLS         </td> <td>AllPub   </td> <td>Inside    </td> <td>Gtl       </td> <td>StoneBr     </td> <td>Norm       </td> <td>Norm       </td> <td>TwnhsE   </td> <td>1Story     </td> <td>8           </td> <td>5           </td> <td>1992      </td> <td>1992          </td> <td>Gable     </td> <td>CompShg  </td> <td>HdBoard     </td> <td>HdBoard     </td> <td>nan         </td> <td>0           </td> <td>Gd        </td> <td>TA        </td> <td>PConc     </td> <td>Gd       </td> <td>TA       </td> <td>No           </td> <td>ALQ           </td> <td>263         </td> <td>Unf           </td> <td>0           </td> <td>1017       </td> <td>1280         </td> <td>GasA   </td> <td>Ex        </td> <td>Y          </td> <td>SBrkr     </td> <td>1280      </td> <td>0         </td> <td>0              </td> <td>1280       </td> <td>0             </td> <td>0             </td> <td>2        </td> <td>0        </td> <td>2            </td> <td>1            </td> <td>Gd          </td> <td>5            </td> <td>Typ       </td> <td>0         </td> <td>nan         </td> <td>Attchd     </td> <td>1992         </td> <td>RFn          </td> <td>2          </td> <td>506        </td> <td>TA         </td> <td>TA         </td> <td>Y          </td> <td>0           </td> <td>82           </td> <td>0             </td> <td>0         </td> <td>144         </td> <td>0        </td> <td>nan    </td> <td>nan  </td> <td>nan         </td> <td>0       </td> <td>1      </td> <td>2010   </td> <td>WD       </td> <td>Normal        </td> <td>191500   </td>\n",
       "        </tr>\n",
       "        <tr>\n",
       "            <td>9    </td> <td>527146030</td> <td>120        </td> <td>RL       </td> <td>39          </td> <td>5389    </td> <td>Pave  </td> <td>nan  </td> <td>IR1      </td> <td>Lvl         </td> <td>AllPub   </td> <td>Inside    </td> <td>Gtl       </td> <td>StoneBr     </td> <td>Norm       </td> <td>Norm       </td> <td>TwnhsE   </td> <td>1Story     </td> <td>8           </td> <td>5           </td> <td>1995      </td> <td>1996          </td> <td>Gable     </td> <td>CompShg  </td> <td>CemntBd     </td> <td>CmentBd     </td> <td>nan         </td> <td>0           </td> <td>Gd        </td> <td>TA        </td> <td>PConc     </td> <td>Gd       </td> <td>TA       </td> <td>No           </td> <td>GLQ           </td> <td>1180        </td> <td>Unf           </td> <td>0           </td> <td>415        </td> <td>1595         </td> <td>GasA   </td> <td>Ex        </td> <td>Y          </td> <td>SBrkr     </td> <td>1616      </td> <td>0         </td> <td>0              </td> <td>1616       </td> <td>1             </td> <td>0             </td> <td>2        </td> <td>0        </td> <td>2            </td> <td>1            </td> <td>Gd          </td> <td>5            </td> <td>Typ       </td> <td>1         </td> <td>TA          </td> <td>Attchd     </td> <td>1995         </td> <td>RFn          </td> <td>2          </td> <td>608        </td> <td>TA         </td> <td>TA         </td> <td>Y          </td> <td>237         </td> <td>152          </td> <td>0             </td> <td>0         </td> <td>0           </td> <td>0        </td> <td>nan    </td> <td>nan  </td> <td>nan         </td> <td>0       </td> <td>3      </td> <td>2010   </td> <td>WD       </td> <td>Normal        </td> <td>236500   </td>\n",
       "        </tr>\n",
       "        <tr>\n",
       "            <td>10   </td> <td>527162130</td> <td>60         </td> <td>RL       </td> <td>60          </td> <td>7500    </td> <td>Pave  </td> <td>nan  </td> <td>Reg      </td> <td>Lvl         </td> <td>AllPub   </td> <td>Inside    </td> <td>Gtl       </td> <td>Gilbert     </td> <td>Norm       </td> <td>Norm       </td> <td>1Fam     </td> <td>2Story     </td> <td>7           </td> <td>5           </td> <td>1999      </td> <td>1999          </td> <td>Gable     </td> <td>CompShg  </td> <td>VinylSd     </td> <td>VinylSd     </td> <td>nan         </td> <td>0           </td> <td>TA        </td> <td>TA        </td> <td>PConc     </td> <td>TA       </td> <td>TA       </td> <td>No           </td> <td>Unf           </td> <td>0           </td> <td>Unf           </td> <td>0           </td> <td>994        </td> <td>994          </td> <td>GasA   </td> <td>Gd        </td> <td>Y          </td> <td>SBrkr     </td> <td>1028      </td> <td>776       </td> <td>0              </td> <td>1804       </td> <td>0             </td> <td>0             </td> <td>2        </td> <td>1        </td> <td>3            </td> <td>1            </td> <td>Gd          </td> <td>7            </td> <td>Typ       </td> <td>1         </td> <td>TA          </td> <td>Attchd     </td> <td>1999         </td> <td>Fin          </td> <td>2          </td> <td>442        </td> <td>TA         </td> <td>TA         </td> <td>Y          </td> <td>140         </td> <td>60           </td> <td>0             </td> <td>0         </td> <td>0           </td> <td>0        </td> <td>nan    </td> <td>nan  </td> <td>nan         </td> <td>0       </td> <td>6      </td> <td>2010   </td> <td>WD       </td> <td>Normal        </td> <td>189000   </td>\n",
       "        </tr>\n",
       "    </tbody>\n",
       "</table>\n",
       "<p>... (2920 rows omitted)</p>"
      ],
      "text/plain": [
       "Order | PID       | MS SubClass | MS Zoning | Lot Frontage | Lot Area | Street | Alley | Lot Shape | Land Contour | Utilities | Lot Config | Land Slope | Neighborhood | Condition 1 | Condition 2 | Bldg Type | House Style | Overall Qual | Overall Cond | Year Built | Year Remod/Add | Roof Style | Roof Matl | Exterior 1st | Exterior 2nd | Mas Vnr Type | Mas Vnr Area | Exter Qual | Exter Cond | Foundation | Bsmt Qual | Bsmt Cond | Bsmt Exposure | BsmtFin Type 1 | BsmtFin SF 1 | BsmtFin Type 2 | BsmtFin SF 2 | Bsmt Unf SF | Total Bsmt SF | Heating | Heating QC | Central Air | Electrical | 1st Flr SF | 2nd Flr SF | Low Qual Fin SF | Gr Liv Area | Bsmt Full Bath | Bsmt Half Bath | Full Bath | Half Bath | Bedroom AbvGr | Kitchen AbvGr | Kitchen Qual | TotRms AbvGrd | Functional | Fireplaces | Fireplace Qu | Garage Type | Garage Yr Blt | Garage Finish | Garage Cars | Garage Area | Garage Qual | Garage Cond | Paved Drive | Wood Deck SF | Open Porch SF | Enclosed Porch | 3Ssn Porch | Screen Porch | Pool Area | Pool QC | Fence | Misc Feature | Misc Val | Mo Sold | Yr Sold | Sale Type | Sale Condition | SalePrice\n",
       "1     | 526301100 | 20          | RL        | 141          | 31770    | Pave   | nan   | IR1       | Lvl          | AllPub    | Corner     | Gtl        | NAmes        | Norm        | Norm        | 1Fam      | 1Story      | 6            | 5            | 1960       | 1960           | Hip        | CompShg   | BrkFace      | Plywood      | Stone        | 112          | TA         | TA         | CBlock     | TA        | Gd        | Gd            | BLQ            | 639          | Unf            | 0            | 441         | 1080          | GasA    | Fa         | Y           | SBrkr      | 1656       | 0          | 0               | 1656        | 1              | 0              | 1         | 0         | 3             | 1             | TA           | 7             | Typ        | 2          | Gd           | Attchd      | 1960          | Fin           | 2           | 528         | TA          | TA          | P           | 210          | 62            | 0              | 0          | 0            | 0         | nan     | nan   | nan          | 0        | 5       | 2010    | WD        | Normal         | 215000\n",
       "2     | 526350040 | 20          | RH        | 80           | 11622    | Pave   | nan   | Reg       | Lvl          | AllPub    | Inside     | Gtl        | NAmes        | Feedr       | Norm        | 1Fam      | 1Story      | 5            | 6            | 1961       | 1961           | Gable      | CompShg   | VinylSd      | VinylSd      | nan          | 0            | TA         | TA         | CBlock     | TA        | TA        | No            | Rec            | 468          | LwQ            | 144          | 270         | 882           | GasA    | TA         | Y           | SBrkr      | 896        | 0          | 0               | 896         | 0              | 0              | 1         | 0         | 2             | 1             | TA           | 5             | Typ        | 0          | nan          | Attchd      | 1961          | Unf           | 1           | 730         | TA          | TA          | Y           | 140          | 0             | 0              | 0          | 120          | 0         | nan     | MnPrv | nan          | 0        | 6       | 2010    | WD        | Normal         | 105000\n",
       "3     | 526351010 | 20          | RL        | 81           | 14267    | Pave   | nan   | IR1       | Lvl          | AllPub    | Corner     | Gtl        | NAmes        | Norm        | Norm        | 1Fam      | 1Story      | 6            | 6            | 1958       | 1958           | Hip        | CompShg   | Wd Sdng      | Wd Sdng      | BrkFace      | 108          | TA         | TA         | CBlock     | TA        | TA        | No            | ALQ            | 923          | Unf            | 0            | 406         | 1329          | GasA    | TA         | Y           | SBrkr      | 1329       | 0          | 0               | 1329        | 0              | 0              | 1         | 1         | 3             | 1             | Gd           | 6             | Typ        | 0          | nan          | Attchd      | 1958          | Unf           | 1           | 312         | TA          | TA          | Y           | 393          | 36            | 0              | 0          | 0            | 0         | nan     | nan   | Gar2         | 12500    | 6       | 2010    | WD        | Normal         | 172000\n",
       "4     | 526353030 | 20          | RL        | 93           | 11160    | Pave   | nan   | Reg       | Lvl          | AllPub    | Corner     | Gtl        | NAmes        | Norm        | Norm        | 1Fam      | 1Story      | 7            | 5            | 1968       | 1968           | Hip        | CompShg   | BrkFace      | BrkFace      | nan          | 0            | Gd         | TA         | CBlock     | TA        | TA        | No            | ALQ            | 1065         | Unf            | 0            | 1045        | 2110          | GasA    | Ex         | Y           | SBrkr      | 2110       | 0          | 0               | 2110        | 1              | 0              | 2         | 1         | 3             | 1             | Ex           | 8             | Typ        | 2          | TA           | Attchd      | 1968          | Fin           | 2           | 522         | TA          | TA          | Y           | 0            | 0             | 0              | 0          | 0            | 0         | nan     | nan   | nan          | 0        | 4       | 2010    | WD        | Normal         | 244000\n",
       "5     | 527105010 | 60          | RL        | 74           | 13830    | Pave   | nan   | IR1       | Lvl          | AllPub    | Inside     | Gtl        | Gilbert      | Norm        | Norm        | 1Fam      | 2Story      | 5            | 5            | 1997       | 1998           | Gable      | CompShg   | VinylSd      | VinylSd      | nan          | 0            | TA         | TA         | PConc      | Gd        | TA        | No            | GLQ            | 791          | Unf            | 0            | 137         | 928           | GasA    | Gd         | Y           | SBrkr      | 928        | 701        | 0               | 1629        | 0              | 0              | 2         | 1         | 3             | 1             | TA           | 6             | Typ        | 1          | TA           | Attchd      | 1997          | Fin           | 2           | 482         | TA          | TA          | Y           | 212          | 34            | 0              | 0          | 0            | 0         | nan     | MnPrv | nan          | 0        | 3       | 2010    | WD        | Normal         | 189900\n",
       "6     | 527105030 | 60          | RL        | 78           | 9978     | Pave   | nan   | IR1       | Lvl          | AllPub    | Inside     | Gtl        | Gilbert      | Norm        | Norm        | 1Fam      | 2Story      | 6            | 6            | 1998       | 1998           | Gable      | CompShg   | VinylSd      | VinylSd      | BrkFace      | 20           | TA         | TA         | PConc      | TA        | TA        | No            | GLQ            | 602          | Unf            | 0            | 324         | 926           | GasA    | Ex         | Y           | SBrkr      | 926        | 678        | 0               | 1604        | 0              | 0              | 2         | 1         | 3             | 1             | Gd           | 7             | Typ        | 1          | Gd           | Attchd      | 1998          | Fin           | 2           | 470         | TA          | TA          | Y           | 360          | 36            | 0              | 0          | 0            | 0         | nan     | nan   | nan          | 0        | 6       | 2010    | WD        | Normal         | 195500\n",
       "7     | 527127150 | 120         | RL        | 41           | 4920     | Pave   | nan   | Reg       | Lvl          | AllPub    | Inside     | Gtl        | StoneBr      | Norm        | Norm        | TwnhsE    | 1Story      | 8            | 5            | 2001       | 2001           | Gable      | CompShg   | CemntBd      | CmentBd      | nan          | 0            | Gd         | TA         | PConc      | Gd        | TA        | Mn            | GLQ            | 616          | Unf            | 0            | 722         | 1338          | GasA    | Ex         | Y           | SBrkr      | 1338       | 0          | 0               | 1338        | 1              | 0              | 2         | 0         | 2             | 1             | Gd           | 6             | Typ        | 0          | nan          | Attchd      | 2001          | Fin           | 2           | 582         | TA          | TA          | Y           | 0            | 0             | 170            | 0          | 0            | 0         | nan     | nan   | nan          | 0        | 4       | 2010    | WD        | Normal         | 213500\n",
       "8     | 527145080 | 120         | RL        | 43           | 5005     | Pave   | nan   | IR1       | HLS          | AllPub    | Inside     | Gtl        | StoneBr      | Norm        | Norm        | TwnhsE    | 1Story      | 8            | 5            | 1992       | 1992           | Gable      | CompShg   | HdBoard      | HdBoard      | nan          | 0            | Gd         | TA         | PConc      | Gd        | TA        | No            | ALQ            | 263          | Unf            | 0            | 1017        | 1280          | GasA    | Ex         | Y           | SBrkr      | 1280       | 0          | 0               | 1280        | 0              | 0              | 2         | 0         | 2             | 1             | Gd           | 5             | Typ        | 0          | nan          | Attchd      | 1992          | RFn           | 2           | 506         | TA          | TA          | Y           | 0            | 82            | 0              | 0          | 144          | 0         | nan     | nan   | nan          | 0        | 1       | 2010    | WD        | Normal         | 191500\n",
       "9     | 527146030 | 120         | RL        | 39           | 5389     | Pave   | nan   | IR1       | Lvl          | AllPub    | Inside     | Gtl        | StoneBr      | Norm        | Norm        | TwnhsE    | 1Story      | 8            | 5            | 1995       | 1996           | Gable      | CompShg   | CemntBd      | CmentBd      | nan          | 0            | Gd         | TA         | PConc      | Gd        | TA        | No            | GLQ            | 1180         | Unf            | 0            | 415         | 1595          | GasA    | Ex         | Y           | SBrkr      | 1616       | 0          | 0               | 1616        | 1              | 0              | 2         | 0         | 2             | 1             | Gd           | 5             | Typ        | 1          | TA           | Attchd      | 1995          | RFn           | 2           | 608         | TA          | TA          | Y           | 237          | 152           | 0              | 0          | 0            | 0         | nan     | nan   | nan          | 0        | 3       | 2010    | WD        | Normal         | 236500\n",
       "10    | 527162130 | 60          | RL        | 60           | 7500     | Pave   | nan   | Reg       | Lvl          | AllPub    | Inside     | Gtl        | Gilbert      | Norm        | Norm        | 1Fam      | 2Story      | 7            | 5            | 1999       | 1999           | Gable      | CompShg   | VinylSd      | VinylSd      | nan          | 0            | TA         | TA         | PConc      | TA        | TA        | No            | Unf            | 0            | Unf            | 0            | 994         | 994           | GasA    | Gd         | Y           | SBrkr      | 1028       | 776        | 0               | 1804        | 0              | 0              | 2         | 1         | 3             | 1             | Gd           | 7             | Typ        | 1          | TA           | Attchd      | 1999          | Fin           | 2           | 442         | TA          | TA          | Y           | 140          | 60            | 0              | 0          | 0            | 0         | nan     | nan   | nan          | 0        | 6       | 2010    | WD        | Normal         | 189000\n",
       "... (2920 rows omitted)"
      ]
     },
     "execution_count": 7,
     "metadata": {},
     "output_type": "execute_result"
    }
   ],
   "source": [
    "HOUSE=Table().read_table('data/house.csv')\n",
    "HOUSE"
   ]
  },
  {
   "cell_type": "markdown",
   "id": "59d398c7-9a64-4233-b7d5-e5b5dc5e7cdf",
   "metadata": {
    "tags": []
   },
   "source": [
    "#### <font color=orange>House price prediction\n",
    "Let's try to predict house price using features available in the extensive dataset."
   ]
  },
  {
   "cell_type": "markdown",
   "id": "370c1075-2b56-4361-ad79-18632d2347c4",
   "metadata": {},
   "source": [
    "#### Define target and features"
   ]
  },
  {
   "cell_type": "code",
   "execution_count": 8,
   "id": "caaab163-9fe2-409d-9ba3-eb308f6ab479",
   "metadata": {
    "tags": []
   },
   "outputs": [],
   "source": [
    "target = ['SalePrice']\n",
    "features = ['1st Flr SF','Full Bath', '2nd Flr SF','TotRms AbvGrd' ]"
   ]
  },
  {
   "cell_type": "code",
   "execution_count": 9,
   "id": "82213578-3c88-4f64-99db-d20e5838f973",
   "metadata": {
    "tags": []
   },
   "outputs": [],
   "source": [
    "sHOUSE = HOUSE.select(target[0])"
   ]
  },
  {
   "cell_type": "markdown",
   "id": "c6bd5d8a-56a2-4884-83e6-48c53ca47e79",
   "metadata": {},
   "source": [
    "#### Standardize"
   ]
  },
  {
   "cell_type": "code",
   "execution_count": 10,
   "id": "304fc474-bb4c-4b72-b2b8-1392e23c67c1",
   "metadata": {
    "tags": []
   },
   "outputs": [
    {
     "name": "stdout",
     "output_type": "stream",
     "text": [
      "Standardizing:  1st Flr SF\n",
      "Standardizing:  Full Bath\n",
      "Standardizing:  2nd Flr SF\n",
      "Standardizing:  TotRms AbvGrd\n"
     ]
    },
    {
     "data": {
      "text/html": [
       "<table border=\"1\" class=\"dataframe\">\n",
       "    <thead>\n",
       "        <tr>\n",
       "            <th>SalePrice</th> <th>1st Flr SF</th> <th>Full Bath</th> <th>2nd Flr SF</th> <th>TotRms AbvGrd</th>\n",
       "        </tr>\n",
       "    </thead>\n",
       "    <tbody>\n",
       "        <tr>\n",
       "            <td>215000   </td> <td>1.267     </td> <td>-1.02479 </td> <td>-0.783185 </td> <td>0.354167     </td>\n",
       "        </tr>\n",
       "        <tr>\n",
       "            <td>105000   </td> <td>-0.672643 </td> <td>-1.02479 </td> <td>-0.783185 </td> <td>-0.917535    </td>\n",
       "        </tr>\n",
       "        <tr>\n",
       "            <td>172000   </td> <td>0.432445  </td> <td>-1.02479 </td> <td>-0.783185 </td> <td>-0.281684    </td>\n",
       "        </tr>\n",
       "        <tr>\n",
       "            <td>244000   </td> <td>2.42569   </td> <td>0.784028 </td> <td>-0.783185 </td> <td>0.990018     </td>\n",
       "        </tr>\n",
       "        <tr>\n",
       "            <td>189900   </td> <td>-0.590974 </td> <td>0.784028 </td> <td>0.853432  </td> <td>-0.281684    </td>\n",
       "        </tr>\n",
       "        <tr>\n",
       "            <td>195500   </td> <td>-0.596078 </td> <td>0.784028 </td> <td>0.799734  </td> <td>0.354167     </td>\n",
       "        </tr>\n",
       "        <tr>\n",
       "            <td>213500   </td> <td>0.455414  </td> <td>0.784028 </td> <td>-0.783185 </td> <td>-0.281684    </td>\n",
       "        </tr>\n",
       "        <tr>\n",
       "            <td>191500   </td> <td>0.307389  </td> <td>0.784028 </td> <td>-0.783185 </td> <td>-0.917535    </td>\n",
       "        </tr>\n",
       "        <tr>\n",
       "            <td>236500   </td> <td>1.16492   </td> <td>0.784028 </td> <td>-0.783185 </td> <td>-0.917535    </td>\n",
       "        </tr>\n",
       "        <tr>\n",
       "            <td>189000   </td> <td>-0.335757 </td> <td>0.784028 </td> <td>1.02853   </td> <td>0.354167     </td>\n",
       "        </tr>\n",
       "    </tbody>\n",
       "</table>\n",
       "<p>... (2920 rows omitted)</p>"
      ],
      "text/plain": [
       "SalePrice | 1st Flr SF | Full Bath | 2nd Flr SF | TotRms AbvGrd\n",
       "215000    | 1.267      | -1.02479  | -0.783185  | 0.354167\n",
       "105000    | -0.672643  | -1.02479  | -0.783185  | -0.917535\n",
       "172000    | 0.432445   | -1.02479  | -0.783185  | -0.281684\n",
       "244000    | 2.42569    | 0.784028  | -0.783185  | 0.990018\n",
       "189900    | -0.590974  | 0.784028  | 0.853432   | -0.281684\n",
       "195500    | -0.596078  | 0.784028  | 0.799734   | 0.354167\n",
       "213500    | 0.455414   | 0.784028  | -0.783185  | -0.281684\n",
       "191500    | 0.307389   | 0.784028  | -0.783185  | -0.917535\n",
       "236500    | 1.16492    | 0.784028  | -0.783185  | -0.917535\n",
       "189000    | -0.335757  | 0.784028  | 1.02853    | 0.354167\n",
       "... (2920 rows omitted)"
      ]
     },
     "execution_count": 10,
     "metadata": {},
     "output_type": "execute_result"
    }
   ],
   "source": [
    "for label in features:\n",
    "    print('Standardizing: ',label)\n",
    "    sHOUSE = sHOUSE.with_columns(label,standard_units(HOUSE[label]))\n",
    "sHOUSE  "
   ]
  },
  {
   "cell_type": "markdown",
   "id": "b1e8590c-0e3f-4b6f-ba7b-6e873082886c",
   "metadata": {
    "tags": []
   },
   "source": [
    "### Train, test split"
   ]
  },
  {
   "cell_type": "code",
   "execution_count": 11,
   "id": "1bdbdefb-f377-4808-ba0a-ddc8c72bece7",
   "metadata": {
    "tags": []
   },
   "outputs": [
    {
     "name": "stdout",
     "output_type": "stream",
     "text": [
      "2344 training and 586 test instances.\n"
     ]
    },
    {
     "data": {
      "text/html": [
       "<table border=\"1\" class=\"dataframe\">\n",
       "    <thead>\n",
       "        <tr>\n",
       "            <th>SalePrice</th> <th>1st Flr SF</th> <th>Full Bath</th> <th>2nd Flr SF</th> <th>TotRms AbvGrd</th>\n",
       "        </tr>\n",
       "    </thead>\n",
       "    <tbody>\n",
       "        <tr>\n",
       "            <td>135000   </td> <td>0.0470679 </td> <td>-1.02479 </td> <td>-0.783185 </td> <td>-0.281684    </td>\n",
       "        </tr>\n",
       "        <tr>\n",
       "            <td>120000   </td> <td>-0.29237  </td> <td>-1.02479 </td> <td>-0.783185 </td> <td>-0.281684    </td>\n",
       "        </tr>\n",
       "        <tr>\n",
       "            <td>163000   </td> <td>-1.12182  </td> <td>-1.02479 </td> <td>0.897791  </td> <td>0.354167     </td>\n",
       "        </tr>\n",
       "    </tbody>\n",
       "</table>\n",
       "<p>... (2341 rows omitted)</p>"
      ],
      "text/plain": [
       "<IPython.core.display.HTML object>"
      ]
     },
     "metadata": {},
     "output_type": "display_data"
    }
   ],
   "source": [
    "trainH, testH = sHOUSE.split(int(0.8*sHOUSE.num_rows))\n",
    "print(trainH.num_rows, 'training and', testH.num_rows, 'test instances.')\n",
    "\n",
    "trainH.show(3)"
   ]
  },
  {
   "cell_type": "code",
   "execution_count": 12,
   "id": "f643f463-d529-4a2d-8a3d-038d2817cf2c",
   "metadata": {
    "tags": []
   },
   "outputs": [
    {
     "name": "stdout",
     "output_type": "stream",
     "text": [
      "Predicting target value, SalePrice, for row = 16 using k=8 with features: ['1st Flr SF', 'Full Bath', '2nd Flr SF', 'TotRms AbvGrd']\n",
      "Actual value: 137000.00\n",
      "Predicted value: 131331.25\n",
      "Closest neighbor values: [139000 133000 109500 129500 132250 145000 134900 127500]\n"
     ]
    },
    {
     "data": {
      "text/plain": [
       "131331.25"
      ]
     },
     "execution_count": 12,
     "metadata": {},
     "output_type": "execute_result"
    }
   ],
   "source": [
    "predict_knn(16, trainH, testH, k=8, pr=True)"
   ]
  },
  {
   "cell_type": "markdown",
   "id": "f31be8c7-36fa-4958-8e9c-a9cadd4dca99",
   "metadata": {},
   "source": [
    "#### Test prediction accuracy using specified features"
   ]
  },
  {
   "cell_type": "code",
   "execution_count": 13,
   "id": "317793b4-00f6-4468-8704-00bb55c44d28",
   "metadata": {
    "tags": []
   },
   "outputs": [],
   "source": [
    "k = 5"
   ]
  },
  {
   "cell_type": "code",
   "execution_count": null,
   "id": "ca4f1972-98b0-4ea6-b7d1-52a5136a8094",
   "metadata": {
    "tags": []
   },
   "outputs": [],
   "source": [
    "error = []\n",
    "for i in np.arange(testH.num_rows):\n",
    "    predict = predict_knn(i, trainH, testH, k=8, pr=False)\n",
    "    error.append( predict - testH[target[0]][0])\n",
    "print(f'Mean signed error: {np.mean(np.array(error)):.2f}')\n",
    "print(f'Root mean squared error (RMSE): {np.sqrt(np.mean((np.array(error))**2)):.2f}')"
   ]
  },
  {
   "cell_type": "markdown",
   "id": "322b9aac-8fa6-4fbb-a45e-7e58be79b5c2",
   "metadata": {},
   "source": [
    "**<font color=green>Pretty good prediction, let's see if we can do better with additional features**"
   ]
  },
  {
   "cell_type": "markdown",
   "id": "bafa07b7-9e57-452f-8422-039bb5f78002",
   "metadata": {},
   "source": [
    "#### Add additional features"
   ]
  },
  {
   "cell_type": "code",
   "execution_count": null,
   "id": "fd7c027c-0b76-4bf5-bc42-3c5b2bfb8c27",
   "metadata": {
    "tags": []
   },
   "outputs": [],
   "source": [
    "target = ['SalePrice']\n",
    "features = ['Lot Area','1st Flr SF','2nd Flr SF','Full Bath','TotRms AbvGrd', 'Overall Qual' ]"
   ]
  },
  {
   "cell_type": "code",
   "execution_count": null,
   "id": "d954d454-8e44-471f-abe7-e0dca7532c0b",
   "metadata": {
    "tags": []
   },
   "outputs": [],
   "source": [
    "sHOUSE = HOUSE.select(target[0])"
   ]
  },
  {
   "cell_type": "code",
   "execution_count": null,
   "id": "b120a394-6ef2-4916-983f-21ffcf72a1c3",
   "metadata": {
    "tags": []
   },
   "outputs": [],
   "source": [
    "for label in features:\n",
    "    print('Standardizing: ',label)\n",
    "    sHOUSE = sHOUSE.with_columns(label,standard_units(HOUSE[label]))\n",
    "sHOUSE  "
   ]
  },
  {
   "cell_type": "markdown",
   "id": "72c3e0b3-bedf-450e-a0f5-7d9e31fe02c0",
   "metadata": {
    "tags": []
   },
   "source": [
    "### Train, test split"
   ]
  },
  {
   "cell_type": "code",
   "execution_count": null,
   "id": "d6df3ec5-5075-4898-a1ef-a619e5b2c0b7",
   "metadata": {
    "tags": []
   },
   "outputs": [],
   "source": [
    "trainH, testH = sHOUSE.split(int(0.8*sHOUSE.num_rows))\n",
    "print(trainH.num_rows, 'training and', testH.num_rows, 'test instances.')\n",
    "\n",
    "trainH.show(3)"
   ]
  },
  {
   "cell_type": "code",
   "execution_count": null,
   "id": "f43869bc-a44e-4a89-b3ff-7d49b4cc1e5b",
   "metadata": {
    "tags": []
   },
   "outputs": [],
   "source": [
    "predict_knn(16, trainH, testH, k=8, pr=True)"
   ]
  },
  {
   "cell_type": "markdown",
   "id": "4d842115-e2dd-4bb8-917a-fe8e66087339",
   "metadata": {},
   "source": [
    "#### Test prediction accuracy using specified features"
   ]
  },
  {
   "cell_type": "code",
   "execution_count": null,
   "id": "03798e8e-ac45-4895-a791-bb6d80ab1dc6",
   "metadata": {
    "tags": []
   },
   "outputs": [],
   "source": [
    "k=5"
   ]
  },
  {
   "cell_type": "code",
   "execution_count": null,
   "id": "80cce8e8-0ef9-44b6-935c-833994396e91",
   "metadata": {
    "tags": []
   },
   "outputs": [],
   "source": [
    "error = []\n",
    "for i in np.arange(testH.num_rows):\n",
    "        predict = predict_knn(i, trainH, testH, k, pr=False)\n",
    "        error.append( predict - testH[target[0]][0])\n",
    "print(f'Mean signed error: {np.mean(np.array(error)):.2f}')\n",
    "print(f'Root mean squared error (RMSE): {np.sqrt(np.mean((np.array(error))**2)):.2f}')"
   ]
  },
  {
   "cell_type": "markdown",
   "id": "df492b79-7ebd-462b-b21e-afe0cf1cf368",
   "metadata": {
    "tags": []
   },
   "source": [
    "**<font color=green>Improved...**"
   ]
  }
 ],
 "metadata": {
  "kernelspec": {
   "display_name": "Python 3 (ipykernel)",
   "language": "python",
   "name": "python3"
  },
  "language_info": {
   "codemirror_mode": {
    "name": "ipython",
    "version": 3
   },
   "file_extension": ".py",
   "mimetype": "text/x-python",
   "name": "python",
   "nbconvert_exporter": "python",
   "pygments_lexer": "ipython3",
   "version": "3.10.11"
  }
 },
 "nbformat": 4,
 "nbformat_minor": 5
}
