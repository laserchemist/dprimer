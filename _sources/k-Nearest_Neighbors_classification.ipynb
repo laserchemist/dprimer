{
 "cells": [
  {
   "cell_type": "markdown",
   "id": "f7ec1b54-1268-483f-b3b9-9967eef5dab9",
   "metadata": {},
   "source": [
    "## Nearest Neighbor Classification"
   ]
  },
  {
   "cell_type": "markdown",
   "id": "0bc4652d-88c6-4f0b-aa71-ee6b81080ae9",
   "metadata": {},
   "source": [
    "<div class=\"alert alert-info\">\n",
    "  <strong>Nearest neighbor</strong>\n",
    "</div>"
   ]
  },
  {
   "cell_type": "markdown",
   "id": "c14d53f6-68e8-4476-bac4-22dd07a6afab",
   "metadata": {},
   "source": [
    "## Learning from training data\n",
    "A key concept in machine learning is using a subset of a dataset to train an algorithm to make estimates on a separate set of test data. The quality of the machine learning and algorithm can be assesed based on the accuracy of the predictions made on test data. Many times there are also parameters sometimes termed hyper-parameters which can be optimized through an iterative approach on test or validation data. In practice a dataset is randomly split into training and test sets using sampling. "
   ]
  },
  {
   "cell_type": "markdown",
   "id": "8497edf8-c3c4-491b-80d7-e3bb3350b971",
   "metadata": {},
   "source": [
    "### k nearest neighbor\n",
    "We will examine one machine learning algorithm in the laboratory, k nearest neighbor. Many of the concepts are applicable to the broad range of machine learning algorithms available."
   ]
  },
  {
   "cell_type": "markdown",
   "id": "ea5250c7-b369-4fff-9744-51c1f52367bb",
   "metadata": {},
   "source": [
    "### Nearest neighbor concept<a id='NNconcept'></a>\n",
    "The training examines the characteristics of *k* nearest neighbors to the data point for which a prediction will be made. Nearness is measured using several different [metrics](https://www.nhm.uio.no/english/research/infrastructure/past/help/similarity.html) with Euclidean distance being a common one for numerical attributes.  \n",
    "Euclidean distance:   \n",
    "1-D: \n",
    "\\begin{align} \n",
    "d(p,q) = \\sqrt{(p-q)^{2}} \n",
    "\\end{align}\n",
    " 2-D: \n",
    "\\begin{align} \n",
    " d(p,q) = \\sqrt{(p_1-q_1)^{2}+(p_2-q_2)^{2}} \n",
    "\\end{align}\n",
    " \n",
    " For multiple points (rows, multidimensional):\n",
    "\\begin{align} \n",
    " d(p_i,q_i) = \\sqrt{\\sum_{i}{((p_i-q_i)^{2})}} \n",
    "\\end{align}"
   ]
  },
  {
   "cell_type": "code",
   "execution_count": 115,
   "id": "cccaae5b-b096-433c-a59b-e07e0df5961c",
   "metadata": {
    "tags": []
   },
   "outputs": [],
   "source": [
    "import numpy as np\n",
    "from datascience import *\n",
    "import matplotlib\n",
    "%matplotlib inline\n",
    "import matplotlib.pyplot as plt\n",
    "plt.style.use('ggplot')"
   ]
  },
  {
   "cell_type": "markdown",
   "id": "baceef92-0a58-45c2-b1ba-1605c9cae0f4",
   "metadata": {},
   "source": [
    "#### Distance function inspired from above equations (1-3)."
   ]
  },
  {
   "cell_type": "code",
   "execution_count": 116,
   "id": "3f9d84f1-cbdc-4159-b9f3-622fa9aca848",
   "metadata": {
    "tags": []
   },
   "outputs": [],
   "source": [
    "def distance(pt1, pt2):\n",
    "    \"\"\"The distance between two points, represented as arrays.\"\"\"\n",
    "    return np.sqrt(np.sum((pt2-pt1)**2))"
   ]
  },
  {
   "cell_type": "markdown",
   "id": "d41bc66f-29c1-43e2-837a-ef0aee83d7b2",
   "metadata": {},
   "source": [
    "### Nearest neighbor Functions\n",
    "These cells create the complete algorithm and use as part of a nearest neighbor toolbox"
   ]
  },
  {
   "cell_type": "code",
   "execution_count": 117,
   "id": "3b0ff24e-fa02-4da7-94b3-686577e949cc",
   "metadata": {
    "tags": []
   },
   "outputs": [],
   "source": [
    "def row_distance(row1, row2):\n",
    "    \"\"\"The distance between two rows of a table.\"\"\"\n",
    "    return distance(np.array(row1), np.array(row2)) # Need to convert rows into arrays\n",
    "\n",
    "def distances(training, test, target, features):\n",
    "    \"\"\"Compute the distance from test for each row in training.\"\"\"\n",
    "    dists = []\n",
    "    attributes = training.select(features)\n",
    "    for row in attributes.rows:\n",
    "        dists.append(row_distance(row, test))\n",
    "    return training.with_column('Distance', dists)\n",
    "\n",
    "def closest(training, test, k, target, features):\n",
    "    \"\"\"Return a table of the k closest neighbors to example row from test data.\"\"\"\n",
    "    return distances(training, test, target, features).sort('Distance').take(np.arange(k))"
   ]
  },
  {
   "cell_type": "markdown",
   "id": "e5dc6f23-e05d-43c0-941c-5e6ec75fe0a1",
   "metadata": {},
   "source": [
    "### Prediction Functions"
   ]
  },
  {
   "cell_type": "code",
   "execution_count": 118,
   "id": "c042158e-459f-4689-8c9c-fb91aad12b2f",
   "metadata": {
    "tags": []
   },
   "outputs": [],
   "source": [
    "def predict_knn(row, train, test, k=5, pr=False):\n",
    "    \"\"\"Return the predicting value or class among the \n",
    "     k nearest neighbors, pr=1 prints\"\"\"\n",
    "    if pr:\n",
    "            print(f'Predicting target value, {target[0]}, for row = {row} using k={k} with features: {features}')\n",
    "    return np.average(closest(train, test.select(features).row(row), k , target, features).column(target[0]))"
   ]
  },
  {
   "cell_type": "code",
   "execution_count": 119,
   "id": "08514f15-155b-401d-90c6-03c9c7d4078e",
   "metadata": {
    "tags": []
   },
   "outputs": [],
   "source": [
    "def predict_knn_class(row, train, test, k=5, pr=False):\n",
    "    \"\"\"Return the predicting value or class among the \n",
    "     k nearest neighbors, pr=1 prints\"\"\"\n",
    "    closestclass = list(closest(train, test.select(features).row(row), k , target, features).column(target[0]))\n",
    "    if pr:\n",
    "            print(f'Predicting target value, {target[0]}, for row = {row} using k={k} with features: {features}')\n",
    "            print(f'Actual classification: {test.select(target).take(row)[0][0]}')\n",
    "            print(f'Predicted classification: {max(closestclass, key=closestclass.count)}')\n",
    "            print(f'Closest classifications: {closestclass}')\n",
    "    return max(closestclass, key=closestclass.count)"
   ]
  },
  {
   "cell_type": "markdown",
   "id": "97ee9be8-2227-42ae-80af-187224e8f52b",
   "metadata": {},
   "source": [
    "### Regression Functions\n",
    "Use as part of a toolbox for later analysis and the project"
   ]
  },
  {
   "cell_type": "code",
   "execution_count": 120,
   "id": "d242a9da-5878-4397-bc57-663a6428259e",
   "metadata": {
    "tags": []
   },
   "outputs": [],
   "source": [
    "def standard_units(any_array):\n",
    "    \"Convert any array of numbers to standard units.\"\n",
    "    return (any_array - np.mean(any_array))/np.std(any_array)  \n",
    "    \n",
    "def correlation(t, label_x, label_y):\n",
    "    \"\"\"Compute the correlation between two variables from a Table with column label_x and label_y..\"\"\"\n",
    "    return np.mean(standard_units(t.column(label_x))*standard_units(t.column(label_y)))\n",
    "\n",
    "def slope(t, label_x, label_y):\n",
    "    \"\"\"Compute the slope between two variables from a Table with column label_x and label_y.\"\"\"\n",
    "    r = correlation(t, label_x, label_y)\n",
    "    return r*np.std(t.column(label_y))/np.std(t.column(label_x))\n",
    "\n",
    "def intercept(t, label_x, label_y):\n",
    "    \"\"\"Compute the slope between two variables from a Table with column label_x and label_y.\"\"\"\n",
    "    return np.mean(t.column(label_y)) - slope(t, label_x, label_y)*np.mean(t.column(label_x))"
   ]
  },
  {
   "cell_type": "markdown",
   "id": "81c4972e-0f2d-4db8-a74d-24b0c7fb4acc",
   "metadata": {},
   "source": [
    "---\n",
    "---\n",
    "### <font color='brown'>Classification example\n",
    "---"
   ]
  },
  {
   "cell_type": "code",
   "execution_count": 121,
   "id": "1680e041-536d-422d-9dcb-0225070f0759",
   "metadata": {
    "tags": []
   },
   "outputs": [
    {
     "data": {
      "text/html": [
       "<table border=\"1\" class=\"dataframe\">\n",
       "    <thead>\n",
       "        <tr>\n",
       "            <th>Age</th> <th>Blood Pressure</th> <th>Specific Gravity</th> <th>Albumin</th> <th>Sugar</th> <th>Red Blood Cells</th> <th>Pus Cell</th> <th>Pus Cell clumps</th> <th>Bacteria</th> <th>Blood Glucose Random</th> <th>Blood Urea</th> <th>Serum Creatinine</th> <th>Sodium</th> <th>Potassium</th> <th>Hemoglobin</th> <th>Packed Cell Volume</th> <th>White Blood Cell Count</th> <th>Red Blood Cell Count</th> <th>Hypertension</th> <th>Diabetes Mellitus</th> <th>Coronary Artery Disease</th> <th>Appetite</th> <th>Pedal Edema</th> <th>Anemia</th> <th>Class</th>\n",
       "        </tr>\n",
       "    </thead>\n",
       "    <tbody>\n",
       "        <tr>\n",
       "            <td>48  </td> <td>70            </td> <td>1.005           </td> <td>4      </td> <td>0    </td> <td>normal         </td> <td>abnormal</td> <td>present        </td> <td>notpresent</td> <td>117                 </td> <td>56        </td> <td>3.8             </td> <td>111   </td> <td>2.5      </td> <td>11.2      </td> <td>32                </td> <td>6700                  </td> <td>3.9                 </td> <td>yes         </td> <td>no               </td> <td>no                     </td> <td>poor    </td> <td>yes        </td> <td>yes   </td> <td>1    </td>\n",
       "        </tr>\n",
       "        <tr>\n",
       "            <td>53  </td> <td>90            </td> <td>1.02            </td> <td>2      </td> <td>0    </td> <td>abnormal       </td> <td>abnormal</td> <td>present        </td> <td>notpresent</td> <td>70                  </td> <td>107       </td> <td>7.2             </td> <td>114   </td> <td>3.7      </td> <td>9.5       </td> <td>29                </td> <td>12100                 </td> <td>3.7                 </td> <td>yes         </td> <td>yes              </td> <td>no                     </td> <td>poor    </td> <td>no         </td> <td>yes   </td> <td>1    </td>\n",
       "        </tr>\n",
       "        <tr>\n",
       "            <td>63  </td> <td>70            </td> <td>1.01            </td> <td>3      </td> <td>0    </td> <td>abnormal       </td> <td>abnormal</td> <td>present        </td> <td>notpresent</td> <td>380                 </td> <td>60        </td> <td>2.7             </td> <td>131   </td> <td>4.2      </td> <td>10.8      </td> <td>32                </td> <td>4500                  </td> <td>3.8                 </td> <td>yes         </td> <td>yes              </td> <td>no                     </td> <td>poor    </td> <td>yes        </td> <td>no    </td> <td>1    </td>\n",
       "        </tr>\n",
       "        <tr>\n",
       "            <td>68  </td> <td>80            </td> <td>1.01            </td> <td>3      </td> <td>2    </td> <td>normal         </td> <td>abnormal</td> <td>present        </td> <td>present   </td> <td>157                 </td> <td>90        </td> <td>4.1             </td> <td>130   </td> <td>6.4      </td> <td>5.6       </td> <td>16                </td> <td>11000                 </td> <td>2.6                 </td> <td>yes         </td> <td>yes              </td> <td>yes                    </td> <td>poor    </td> <td>yes        </td> <td>no    </td> <td>1    </td>\n",
       "        </tr>\n",
       "        <tr>\n",
       "            <td>61  </td> <td>80            </td> <td>1.015           </td> <td>2      </td> <td>0    </td> <td>abnormal       </td> <td>abnormal</td> <td>notpresent     </td> <td>notpresent</td> <td>173                 </td> <td>148       </td> <td>3.9             </td> <td>135   </td> <td>5.2      </td> <td>7.7       </td> <td>24                </td> <td>9200                  </td> <td>3.2                 </td> <td>yes         </td> <td>yes              </td> <td>yes                    </td> <td>poor    </td> <td>yes        </td> <td>yes   </td> <td>1    </td>\n",
       "        </tr>\n",
       "        <tr>\n",
       "            <td>48  </td> <td>80            </td> <td>1.025           </td> <td>4      </td> <td>0    </td> <td>normal         </td> <td>abnormal</td> <td>notpresent     </td> <td>notpresent</td> <td>95                  </td> <td>163       </td> <td>7.7             </td> <td>136   </td> <td>3.8      </td> <td>9.8       </td> <td>32                </td> <td>6900                  </td> <td>3.4                 </td> <td>yes         </td> <td>no               </td> <td>no                     </td> <td>good    </td> <td>no         </td> <td>yes   </td> <td>1    </td>\n",
       "        </tr>\n",
       "        <tr>\n",
       "            <td>69  </td> <td>70            </td> <td>1.01            </td> <td>3      </td> <td>4    </td> <td>normal         </td> <td>abnormal</td> <td>notpresent     </td> <td>notpresent</td> <td>264                 </td> <td>87        </td> <td>2.7             </td> <td>130   </td> <td>4        </td> <td>12.5      </td> <td>37                </td> <td>9600                  </td> <td>4.1                 </td> <td>yes         </td> <td>yes              </td> <td>yes                    </td> <td>good    </td> <td>yes        </td> <td>no    </td> <td>1    </td>\n",
       "        </tr>\n",
       "        <tr>\n",
       "            <td>73  </td> <td>70            </td> <td>1.005           </td> <td>0      </td> <td>0    </td> <td>normal         </td> <td>normal  </td> <td>notpresent     </td> <td>notpresent</td> <td>70                  </td> <td>32        </td> <td>0.9             </td> <td>125   </td> <td>4        </td> <td>10        </td> <td>29                </td> <td>18900                 </td> <td>3.5                 </td> <td>yes         </td> <td>yes              </td> <td>no                     </td> <td>good    </td> <td>yes        </td> <td>no    </td> <td>1    </td>\n",
       "        </tr>\n",
       "        <tr>\n",
       "            <td>73  </td> <td>80            </td> <td>1.02            </td> <td>2      </td> <td>0    </td> <td>abnormal       </td> <td>abnormal</td> <td>notpresent     </td> <td>notpresent</td> <td>253                 </td> <td>142       </td> <td>4.6             </td> <td>138   </td> <td>5.8      </td> <td>10.5      </td> <td>33                </td> <td>7200                  </td> <td>4.3                 </td> <td>yes         </td> <td>yes              </td> <td>yes                    </td> <td>good    </td> <td>no         </td> <td>no    </td> <td>1    </td>\n",
       "        </tr>\n",
       "        <tr>\n",
       "            <td>46  </td> <td>60            </td> <td>1.01            </td> <td>1      </td> <td>0    </td> <td>normal         </td> <td>normal  </td> <td>notpresent     </td> <td>notpresent</td> <td>163                 </td> <td>92        </td> <td>3.3             </td> <td>141   </td> <td>4        </td> <td>9.8       </td> <td>28                </td> <td>14600                 </td> <td>3.2                 </td> <td>yes         </td> <td>yes              </td> <td>no                     </td> <td>good    </td> <td>no         </td> <td>no    </td> <td>1    </td>\n",
       "        </tr>\n",
       "    </tbody>\n",
       "</table>\n",
       "<p>... (148 rows omitted)</p>"
      ],
      "text/plain": [
       "Age  | Blood Pressure | Specific Gravity | Albumin | Sugar | Red Blood Cells | Pus Cell | Pus Cell clumps | Bacteria   | Blood Glucose Random | Blood Urea | Serum Creatinine | Sodium | Potassium | Hemoglobin | Packed Cell Volume | White Blood Cell Count | Red Blood Cell Count | Hypertension | Diabetes Mellitus | Coronary Artery Disease | Appetite | Pedal Edema | Anemia | Class\n",
       "48   | 70             | 1.005            | 4       | 0     | normal          | abnormal | present         | notpresent | 117                  | 56         | 3.8              | 111    | 2.5       | 11.2       | 32                 | 6700                   | 3.9                  | yes          | no                | no                      | poor     | yes         | yes    | 1\n",
       "53   | 90             | 1.02             | 2       | 0     | abnormal        | abnormal | present         | notpresent | 70                   | 107        | 7.2              | 114    | 3.7       | 9.5        | 29                 | 12100                  | 3.7                  | yes          | yes               | no                      | poor     | no          | yes    | 1\n",
       "63   | 70             | 1.01             | 3       | 0     | abnormal        | abnormal | present         | notpresent | 380                  | 60         | 2.7              | 131    | 4.2       | 10.8       | 32                 | 4500                   | 3.8                  | yes          | yes               | no                      | poor     | yes         | no     | 1\n",
       "68   | 80             | 1.01             | 3       | 2     | normal          | abnormal | present         | present    | 157                  | 90         | 4.1              | 130    | 6.4       | 5.6        | 16                 | 11000                  | 2.6                  | yes          | yes               | yes                     | poor     | yes         | no     | 1\n",
       "61   | 80             | 1.015            | 2       | 0     | abnormal        | abnormal | notpresent      | notpresent | 173                  | 148        | 3.9              | 135    | 5.2       | 7.7        | 24                 | 9200                   | 3.2                  | yes          | yes               | yes                     | poor     | yes         | yes    | 1\n",
       "48   | 80             | 1.025            | 4       | 0     | normal          | abnormal | notpresent      | notpresent | 95                   | 163        | 7.7              | 136    | 3.8       | 9.8        | 32                 | 6900                   | 3.4                  | yes          | no                | no                      | good     | no          | yes    | 1\n",
       "69   | 70             | 1.01             | 3       | 4     | normal          | abnormal | notpresent      | notpresent | 264                  | 87         | 2.7              | 130    | 4         | 12.5       | 37                 | 9600                   | 4.1                  | yes          | yes               | yes                     | good     | yes         | no     | 1\n",
       "73   | 70             | 1.005            | 0       | 0     | normal          | normal   | notpresent      | notpresent | 70                   | 32         | 0.9              | 125    | 4         | 10         | 29                 | 18900                  | 3.5                  | yes          | yes               | no                      | good     | yes         | no     | 1\n",
       "73   | 80             | 1.02             | 2       | 0     | abnormal        | abnormal | notpresent      | notpresent | 253                  | 142        | 4.6              | 138    | 5.8       | 10.5       | 33                 | 7200                   | 4.3                  | yes          | yes               | yes                     | good     | no          | no     | 1\n",
       "46   | 60             | 1.01             | 1       | 0     | normal          | normal   | notpresent      | notpresent | 163                  | 92         | 3.3              | 141    | 4         | 9.8        | 28                 | 14600                  | 3.2                  | yes          | yes               | no                      | good     | no          | no     | 1\n",
       "... (148 rows omitted)"
      ]
     },
     "execution_count": 121,
     "metadata": {},
     "output_type": "execute_result"
    }
   ],
   "source": [
    "CKD=Table().read_table('data/ckd.csv')\n",
    "CKD"
   ]
  },
  {
   "cell_type": "markdown",
   "id": "370c1075-2b56-4361-ad79-18632d2347c4",
   "metadata": {},
   "source": [
    "#### Define target and features"
   ]
  },
  {
   "cell_type": "code",
   "execution_count": 122,
   "id": "caaab163-9fe2-409d-9ba3-eb308f6ab479",
   "metadata": {
    "tags": []
   },
   "outputs": [],
   "source": [
    "target = ['Class']\n",
    "features = ['Blood Pressure','Blood Glucose Random','Hemoglobin','Serum Creatinine' ]"
   ]
  },
  {
   "cell_type": "code",
   "execution_count": 123,
   "id": "82213578-3c88-4f64-99db-d20e5838f973",
   "metadata": {
    "tags": []
   },
   "outputs": [],
   "source": [
    "sCKD = CKD.select(target[0])"
   ]
  },
  {
   "cell_type": "markdown",
   "id": "c6bd5d8a-56a2-4884-83e6-48c53ca47e79",
   "metadata": {},
   "source": [
    "#### Standardize"
   ]
  },
  {
   "cell_type": "code",
   "execution_count": 124,
   "id": "304fc474-bb4c-4b72-b2b8-1392e23c67c1",
   "metadata": {
    "tags": []
   },
   "outputs": [
    {
     "name": "stdout",
     "output_type": "stream",
     "text": [
      "Standardizing:  Blood Pressure\n",
      "Standardizing:  Blood Glucose Random\n",
      "Standardizing:  Hemoglobin\n",
      "Standardizing:  Serum Creatinine\n"
     ]
    },
    {
     "data": {
      "text/html": [
       "<table border=\"1\" class=\"dataframe\">\n",
       "    <thead>\n",
       "        <tr>\n",
       "            <th>Class</th> <th>Blood Pressure</th> <th>Blood Glucose Random</th> <th>Hemoglobin</th> <th>Serum Creatinine</th>\n",
       "        </tr>\n",
       "    </thead>\n",
       "    <tbody>\n",
       "        <tr>\n",
       "            <td>1    </td> <td>-0.363613     </td> <td>-0.221549           </td> <td>-0.865744 </td> <td>0.52525         </td>\n",
       "        </tr>\n",
       "        <tr>\n",
       "            <td>1    </td> <td>1.43173       </td> <td>-0.947597           </td> <td>-1.45745  </td> <td>1.63351         </td>\n",
       "        </tr>\n",
       "        <tr>\n",
       "            <td>1    </td> <td>-0.363613     </td> <td>3.84123             </td> <td>-1.00497  </td> <td>0.166693        </td>\n",
       "        </tr>\n",
       "        <tr>\n",
       "            <td>1    </td> <td>0.534056      </td> <td>0.396364            </td> <td>-2.81488  </td> <td>0.623038        </td>\n",
       "        </tr>\n",
       "        <tr>\n",
       "            <td>1    </td> <td>0.534056      </td> <td>0.643529            </td> <td>-2.08395  </td> <td>0.557846        </td>\n",
       "        </tr>\n",
       "        <tr>\n",
       "            <td>1    </td> <td>0.534056      </td> <td>-0.561402           </td> <td>-1.35303  </td> <td>1.79649         </td>\n",
       "        </tr>\n",
       "        <tr>\n",
       "            <td>1    </td> <td>-0.363613     </td> <td>2.04928             </td> <td>-0.413266 </td> <td>0.166693        </td>\n",
       "        </tr>\n",
       "        <tr>\n",
       "            <td>1    </td> <td>-0.363613     </td> <td>-0.947597           </td> <td>-1.28342  </td> <td>-0.420035       </td>\n",
       "        </tr>\n",
       "        <tr>\n",
       "            <td>1    </td> <td>0.534056      </td> <td>1.87936             </td> <td>-1.10939  </td> <td>0.786018        </td>\n",
       "        </tr>\n",
       "        <tr>\n",
       "            <td>1    </td> <td>-1.26128      </td> <td>0.489051            </td> <td>-1.35303  </td> <td>0.36227         </td>\n",
       "        </tr>\n",
       "    </tbody>\n",
       "</table>\n",
       "<p>... (148 rows omitted)</p>"
      ],
      "text/plain": [
       "Class | Blood Pressure | Blood Glucose Random | Hemoglobin | Serum Creatinine\n",
       "1     | -0.363613      | -0.221549            | -0.865744  | 0.52525\n",
       "1     | 1.43173        | -0.947597            | -1.45745   | 1.63351\n",
       "1     | -0.363613      | 3.84123              | -1.00497   | 0.166693\n",
       "1     | 0.534056       | 0.396364             | -2.81488   | 0.623038\n",
       "1     | 0.534056       | 0.643529             | -2.08395   | 0.557846\n",
       "1     | 0.534056       | -0.561402            | -1.35303   | 1.79649\n",
       "1     | -0.363613      | 2.04928              | -0.413266  | 0.166693\n",
       "1     | -0.363613      | -0.947597            | -1.28342   | -0.420035\n",
       "1     | 0.534056       | 1.87936              | -1.10939   | 0.786018\n",
       "1     | -1.26128       | 0.489051             | -1.35303   | 0.36227\n",
       "... (148 rows omitted)"
      ]
     },
     "execution_count": 124,
     "metadata": {},
     "output_type": "execute_result"
    }
   ],
   "source": [
    "for label in features:\n",
    "    print('Standardizing: ',label)\n",
    "    sCKD = sCKD.with_columns(label,standard_units(CKD[label]))\n",
    "sCKD   "
   ]
  },
  {
   "cell_type": "markdown",
   "id": "b1e8590c-0e3f-4b6f-ba7b-6e873082886c",
   "metadata": {
    "tags": []
   },
   "source": [
    "### Train, test split"
   ]
  },
  {
   "cell_type": "code",
   "execution_count": 125,
   "id": "1bdbdefb-f377-4808-ba0a-ddc8c72bece7",
   "metadata": {
    "tags": []
   },
   "outputs": [
    {
     "name": "stdout",
     "output_type": "stream",
     "text": [
      "126 training and 32 test instances.\n"
     ]
    },
    {
     "data": {
      "text/html": [
       "<table border=\"1\" class=\"dataframe\">\n",
       "    <thead>\n",
       "        <tr>\n",
       "            <th>Class</th> <th>Blood Pressure</th> <th>Blood Glucose Random</th> <th>Hemoglobin</th> <th>Serum Creatinine</th>\n",
       "        </tr>\n",
       "    </thead>\n",
       "    <tbody>\n",
       "        <tr>\n",
       "            <td>0    </td> <td>0.534056      </td> <td>-0.49961            </td> <td>1.39665   </td> <td>-0.322247       </td>\n",
       "        </tr>\n",
       "        <tr>\n",
       "            <td>1    </td> <td>-0.363613     </td> <td>-0.221549           </td> <td>-1.28342  </td> <td>0.00371347      </td>\n",
       "        </tr>\n",
       "        <tr>\n",
       "            <td>0    </td> <td>0.534056      </td> <td>-0.221549           </td> <td>0.874556  </td> <td>-0.322247       </td>\n",
       "        </tr>\n",
       "    </tbody>\n",
       "</table>\n",
       "<p>... (123 rows omitted)</p>"
      ],
      "text/plain": [
       "<IPython.core.display.HTML object>"
      ]
     },
     "metadata": {},
     "output_type": "display_data"
    }
   ],
   "source": [
    "trainK, testK = sCKD.split(int(0.8*CKD.num_rows))\n",
    "print(trainK.num_rows, 'training and', testK.num_rows, 'test instances.')\n",
    "\n",
    "trainK.show(3)"
   ]
  },
  {
   "cell_type": "code",
   "execution_count": 126,
   "id": "f643f463-d529-4a2d-8a3d-038d2817cf2c",
   "metadata": {
    "tags": []
   },
   "outputs": [
    {
     "name": "stdout",
     "output_type": "stream",
     "text": [
      "Predicting target value, Class, for row = 16 using k=8 with features: ['Blood Pressure', 'Blood Glucose Random', 'Hemoglobin', 'Serum Creatinine']\n",
      "Actual classification: 0\n",
      "Predicted classification: 0\n",
      "Closest classifications: [0, 0, 0, 0, 0, 0, 0, 0]\n"
     ]
    },
    {
     "data": {
      "text/plain": [
       "0"
      ]
     },
     "execution_count": 126,
     "metadata": {},
     "output_type": "execute_result"
    }
   ],
   "source": [
    "predict_knn_class(16, trainK, testK, k=8, pr=True)"
   ]
  },
  {
   "cell_type": "markdown",
   "id": "f31be8c7-36fa-4958-8e9c-a9cadd4dca99",
   "metadata": {},
   "source": [
    "#### Test prediction accuracy using specified features"
   ]
  },
  {
   "cell_type": "code",
   "execution_count": 127,
   "id": "ca4f1972-98b0-4ea6-b7d1-52a5136a8094",
   "metadata": {
    "tags": []
   },
   "outputs": [
    {
     "name": "stdout",
     "output_type": "stream",
     "text": [
      "Percent correct: 100.0%\n"
     ]
    }
   ],
   "source": [
    "correct = 0\n",
    "predict_list = []\n",
    "for i in np.arange(testK.num_rows):\n",
    "    predict = predict_knn_class(i, trainK, testK, k=8, pr=False)\n",
    "    predict_list.append(predict)\n",
    "    correct += 1*(predict == testK[target[0]][i])\n",
    "print(f'Percent correct: {correct/testK.num_rows*100:.1f}%')"
   ]
  },
  {
   "cell_type": "markdown",
   "id": "1d8d91f0-e4b4-4da6-a2cc-a945dee01ecb",
   "metadata": {},
   "source": [
    "#### Convert test data to original units and plot using below functions\n",
    "Examine relationship between two variables and prediction (0 = no CKD, 1 = CKD)"
   ]
  },
  {
   "cell_type": "code",
   "execution_count": 128,
   "id": "1b702706-960e-430d-a62d-fdb3c6fbf27f",
   "metadata": {
    "tags": []
   },
   "outputs": [],
   "source": [
    "def original_val(x_z,xmean,xstd):\n",
    "    \"\"\"Convert standard z-value back to original\"\"\"\n",
    "    x = x_z*xstd + xmean\n",
    "    return x"
   ]
  },
  {
   "cell_type": "code",
   "execution_count": 129,
   "id": "3332dfe5-8009-4654-8bf8-bce8c20224a6",
   "metadata": {
    "tags": []
   },
   "outputs": [],
   "source": [
    "def plot_relate(tbl, test, predict_list, labelx, labely):\n",
    "    \"\"\"Plot prediction in original units\"\"\"\n",
    "    testvals = Table().with_columns(target[0],testK[target[0]], 'predict',predict_list)\n",
    "    for label in features:\n",
    "        xmean = np.mean(tbl[label])\n",
    "        xstd = np.std(tbl[label])\n",
    "        x = original_val(test[label],xmean,xstd)\n",
    "        testvals=testvals.with_columns(label,x)\n",
    "    scatter = plt.scatter(testvals[labelx],testvals[labely], c=testvals['predict'])\n",
    "    plt.xlabel(labelx)\n",
    "    plt.ylabel(labely)\n",
    "    plt.legend(*scatter.legend_elements())\n",
    "    return testvals\n",
    "    "
   ]
  },
  {
   "cell_type": "code",
   "execution_count": 131,
   "id": "9f1d7090-1214-45bc-9a21-632e1c571c0c",
   "metadata": {
    "tags": []
   },
   "outputs": [
    {
     "data": {
      "text/html": [
       "<table border=\"1\" class=\"dataframe\">\n",
       "    <thead>\n",
       "        <tr>\n",
       "            <th>Class</th> <th>predict</th> <th>Blood Pressure</th> <th>Blood Glucose Random</th> <th>Hemoglobin</th> <th>Serum Creatinine</th>\n",
       "        </tr>\n",
       "    </thead>\n",
       "    <tbody>\n",
       "        <tr>\n",
       "            <td>0    </td> <td>0      </td> <td>80            </td> <td>100                 </td> <td>15.8      </td> <td>0.6             </td>\n",
       "        </tr>\n",
       "        <tr>\n",
       "            <td>0    </td> <td>0      </td> <td>80            </td> <td>118                 </td> <td>14.8      </td> <td>0.7             </td>\n",
       "        </tr>\n",
       "        <tr>\n",
       "            <td>0    </td> <td>0      </td> <td>60            </td> <td>137                 </td> <td>13.6      </td> <td>0.5             </td>\n",
       "        </tr>\n",
       "        <tr>\n",
       "            <td>0    </td> <td>0      </td> <td>80            </td> <td>70                  </td> <td>17        </td> <td>1               </td>\n",
       "        </tr>\n",
       "        <tr>\n",
       "            <td>0    </td> <td>0      </td> <td>60            </td> <td>95                  </td> <td>15        </td> <td>0.5             </td>\n",
       "        </tr>\n",
       "        <tr>\n",
       "            <td>0    </td> <td>0      </td> <td>80            </td> <td>140                 </td> <td>15        </td> <td>1.2             </td>\n",
       "        </tr>\n",
       "        <tr>\n",
       "            <td>0    </td> <td>0      </td> <td>60            </td> <td>91                  </td> <td>14        </td> <td>0.7             </td>\n",
       "        </tr>\n",
       "        <tr>\n",
       "            <td>1    </td> <td>1      </td> <td>50            </td> <td>241                 </td> <td>9.6       </td> <td>12              </td>\n",
       "        </tr>\n",
       "        <tr>\n",
       "            <td>0    </td> <td>0      </td> <td>70            </td> <td>100                 </td> <td>14.3      </td> <td>1.1             </td>\n",
       "        </tr>\n",
       "        <tr>\n",
       "            <td>0    </td> <td>0      </td> <td>80            </td> <td>104                 </td> <td>16.1      </td> <td>1.2             </td>\n",
       "        </tr>\n",
       "    </tbody>\n",
       "</table>\n",
       "<p>... (22 rows omitted)</p>"
      ],
      "text/plain": [
       "Class | predict | Blood Pressure | Blood Glucose Random | Hemoglobin | Serum Creatinine\n",
       "0     | 0       | 80             | 100                  | 15.8       | 0.6\n",
       "0     | 0       | 80             | 118                  | 14.8       | 0.7\n",
       "0     | 0       | 60             | 137                  | 13.6       | 0.5\n",
       "0     | 0       | 80             | 70                   | 17         | 1\n",
       "0     | 0       | 60             | 95                   | 15         | 0.5\n",
       "0     | 0       | 80             | 140                  | 15         | 1.2\n",
       "0     | 0       | 60             | 91                   | 14         | 0.7\n",
       "1     | 1       | 50             | 241                  | 9.6        | 12\n",
       "0     | 0       | 70             | 100                  | 14.3       | 1.1\n",
       "0     | 0       | 80             | 104                  | 16.1       | 1.2\n",
       "... (22 rows omitted)"
      ]
     },
     "execution_count": 131,
     "metadata": {},
     "output_type": "execute_result"
    },
    {
     "data": {
      "image/png": "[encoded data removed]",
      "text/plain": [
       "<Figure size 640x480 with 1 Axes>"
      ]
     },
     "metadata": {},
     "output_type": "display_data"
    }
   ],
   "source": [
    "plot_relate(CKD, testK, predict_list, \"Blood Glucose Random\", \"Hemoglobin\")"
   ]
  },
  {
   "cell_type": "markdown",
   "id": "3c402556-11b1-4020-b2b7-9a349dbc223d",
   "metadata": {},
   "source": [
    "**<font color=blue>Interpretation: Patients with high hemoglobin numbers and low blood glucose are less likely to be predicted to have CKD**"
   ]
  },
  {
   "cell_type": "code",
   "execution_count": 132,
   "id": "b28fdd02-3cb4-4ad8-8f4c-2f92cb9e9351",
   "metadata": {
    "tags": []
   },
   "outputs": [
    {
     "data": {
      "text/html": [
       "<table border=\"1\" class=\"dataframe\">\n",
       "    <thead>\n",
       "        <tr>\n",
       "            <th>Class</th> <th>predict</th> <th>Blood Pressure</th> <th>Blood Glucose Random</th> <th>Hemoglobin</th> <th>Serum Creatinine</th>\n",
       "        </tr>\n",
       "    </thead>\n",
       "    <tbody>\n",
       "        <tr>\n",
       "            <td>0    </td> <td>0      </td> <td>80            </td> <td>100                 </td> <td>15.8      </td> <td>0.6             </td>\n",
       "        </tr>\n",
       "        <tr>\n",
       "            <td>0    </td> <td>0      </td> <td>80            </td> <td>118                 </td> <td>14.8      </td> <td>0.7             </td>\n",
       "        </tr>\n",
       "        <tr>\n",
       "            <td>0    </td> <td>0      </td> <td>60            </td> <td>137                 </td> <td>13.6      </td> <td>0.5             </td>\n",
       "        </tr>\n",
       "        <tr>\n",
       "            <td>0    </td> <td>0      </td> <td>80            </td> <td>70                  </td> <td>17        </td> <td>1               </td>\n",
       "        </tr>\n",
       "        <tr>\n",
       "            <td>0    </td> <td>0      </td> <td>60            </td> <td>95                  </td> <td>15        </td> <td>0.5             </td>\n",
       "        </tr>\n",
       "        <tr>\n",
       "            <td>0    </td> <td>0      </td> <td>80            </td> <td>140                 </td> <td>15        </td> <td>1.2             </td>\n",
       "        </tr>\n",
       "        <tr>\n",
       "            <td>0    </td> <td>0      </td> <td>60            </td> <td>91                  </td> <td>14        </td> <td>0.7             </td>\n",
       "        </tr>\n",
       "        <tr>\n",
       "            <td>1    </td> <td>1      </td> <td>50            </td> <td>241                 </td> <td>9.6       </td> <td>12              </td>\n",
       "        </tr>\n",
       "        <tr>\n",
       "            <td>0    </td> <td>0      </td> <td>70            </td> <td>100                 </td> <td>14.3      </td> <td>1.1             </td>\n",
       "        </tr>\n",
       "        <tr>\n",
       "            <td>0    </td> <td>0      </td> <td>80            </td> <td>104                 </td> <td>16.1      </td> <td>1.2             </td>\n",
       "        </tr>\n",
       "    </tbody>\n",
       "</table>\n",
       "<p>... (22 rows omitted)</p>"
      ],
      "text/plain": [
       "Class | predict | Blood Pressure | Blood Glucose Random | Hemoglobin | Serum Creatinine\n",
       "0     | 0       | 80             | 100                  | 15.8       | 0.6\n",
       "0     | 0       | 80             | 118                  | 14.8       | 0.7\n",
       "0     | 0       | 60             | 137                  | 13.6       | 0.5\n",
       "0     | 0       | 80             | 70                   | 17         | 1\n",
       "0     | 0       | 60             | 95                   | 15         | 0.5\n",
       "0     | 0       | 80             | 140                  | 15         | 1.2\n",
       "0     | 0       | 60             | 91                   | 14         | 0.7\n",
       "1     | 1       | 50             | 241                  | 9.6        | 12\n",
       "0     | 0       | 70             | 100                  | 14.3       | 1.1\n",
       "0     | 0       | 80             | 104                  | 16.1       | 1.2\n",
       "... (22 rows omitted)"
      ]
     },
     "execution_count": 132,
     "metadata": {},
     "output_type": "execute_result"
    },
    {
     "data": {
      "image/png": "[encoded data removed]",
      "text/plain": [
       "<Figure size 640x480 with 1 Axes>"
      ]
     },
     "metadata": {},
     "output_type": "display_data"
    }
   ],
   "source": [
    "plot_relate(CKD, testK, predict_list, \"Blood Glucose Random\", \"Serum Creatinine\")"
   ]
  },
  {
   "cell_type": "markdown",
   "id": "5a89dc56-95bd-4d67-b21c-88165ff71bd7",
   "metadata": {},
   "source": [
    "**<font color=blue>Interpretation: Patients with low creatinine and blood glucose are less likely to be predicted to have CKD**"
   ]
  },
  {
   "cell_type": "markdown",
   "id": "322b9aac-8fa6-4fbb-a45e-7e58be79b5c2",
   "metadata": {},
   "source": [
    "**<font color=green>Pretty good prediction, let's see if we can do better with additional features**"
   ]
  },
  {
   "cell_type": "markdown",
   "id": "bafa07b7-9e57-452f-8422-039bb5f78002",
   "metadata": {},
   "source": [
    "#### Add additional features"
   ]
  },
  {
   "cell_type": "code",
   "execution_count": 133,
   "id": "041749c3-8f28-4f8a-8b93-e9664d5ce52d",
   "metadata": {
    "tags": []
   },
   "outputs": [
    {
     "data": {
      "text/plain": [
       "['Blood Pressure', 'Blood Glucose Random', 'Hemoglobin', 'Serum Creatinine']"
      ]
     },
     "execution_count": 133,
     "metadata": {},
     "output_type": "execute_result"
    }
   ],
   "source": [
    "features"
   ]
  },
  {
   "cell_type": "code",
   "execution_count": 134,
   "id": "fd7c027c-0b76-4bf5-bc42-3c5b2bfb8c27",
   "metadata": {
    "tags": []
   },
   "outputs": [],
   "source": [
    "target = ['Class']\n",
    "features = ['Age','Blood Pressure','Blood Glucose Random','Hemoglobin','Serum Creatinine', 'Sodium', 'Blood Urea' ]"
   ]
  },
  {
   "cell_type": "code",
   "execution_count": 135,
   "id": "3733a1c9-7b92-422b-8b25-aac7d95f165b",
   "metadata": {
    "tags": []
   },
   "outputs": [],
   "source": [
    "sCKD = CKD.select(target[0])"
   ]
  },
  {
   "cell_type": "code",
   "execution_count": 145,
   "id": "e7053839-cb83-4e05-8c10-1d2ceae66979",
   "metadata": {
    "tags": []
   },
   "outputs": [
    {
     "name": "stdout",
     "output_type": "stream",
     "text": [
      "Standardizing:  Age\n",
      "Standardizing:  Blood Pressure\n",
      "Standardizing:  Blood Glucose Random\n",
      "Standardizing:  Hemoglobin\n",
      "Standardizing:  Serum Creatinine\n",
      "Standardizing:  Sodium\n",
      "Standardizing:  Blood Urea\n"
     ]
    },
    {
     "data": {
      "text/html": [
       "<table border=\"1\" class=\"dataframe\">\n",
       "    <thead>\n",
       "        <tr>\n",
       "            <th>Class</th> <th>Age</th> <th>Blood Pressure</th> <th>Blood Glucose Random</th> <th>Hemoglobin</th> <th>Serum Creatinine</th> <th>Sodium</th> <th>Blood Urea</th>\n",
       "        </tr>\n",
       "    </thead>\n",
       "    <tbody>\n",
       "        <tr>\n",
       "            <td>1    </td> <td>-0.101098</td> <td>-0.363613     </td> <td>-0.221549           </td> <td>-0.865744 </td> <td>0.52525         </td> <td>-3.73015 </td> <td>0.0724741 </td>\n",
       "        </tr>\n",
       "        <tr>\n",
       "            <td>1    </td> <td>0.222253 </td> <td>1.43173       </td> <td>-0.947597           </td> <td>-1.45745  </td> <td>1.63351         </td> <td>-3.32831 </td> <td>1.15195   </td>\n",
       "        </tr>\n",
       "        <tr>\n",
       "            <td>1    </td> <td>0.868954 </td> <td>-0.363613     </td> <td>3.84123             </td> <td>-1.00497  </td> <td>0.166693        </td> <td>-1.05122 </td> <td>0.157139  </td>\n",
       "        </tr>\n",
       "        <tr>\n",
       "            <td>1    </td> <td>1.19231  </td> <td>0.534056      </td> <td>0.396364            </td> <td>-2.81488  </td> <td>0.623038        </td> <td>-1.18517 </td> <td>0.792125  </td>\n",
       "        </tr>\n",
       "        <tr>\n",
       "            <td>1    </td> <td>0.739614 </td> <td>0.534056      </td> <td>0.643529            </td> <td>-2.08395  </td> <td>0.557846        </td> <td>-0.515439</td> <td>2.01976   </td>\n",
       "        </tr>\n",
       "        <tr>\n",
       "            <td>1    </td> <td>-0.101098</td> <td>0.534056      </td> <td>-0.561402           </td> <td>-1.35303  </td> <td>1.79649         </td> <td>-0.381492</td> <td>2.33726   </td>\n",
       "        </tr>\n",
       "        <tr>\n",
       "            <td>1    </td> <td>1.25698  </td> <td>-0.363613     </td> <td>2.04928             </td> <td>-0.413266 </td> <td>0.166693        </td> <td>-1.18517 </td> <td>0.728626  </td>\n",
       "        </tr>\n",
       "        <tr>\n",
       "            <td>1    </td> <td>1.51566  </td> <td>-0.363613     </td> <td>-0.947597           </td> <td>-1.28342  </td> <td>-0.420035       </td> <td>-1.8549  </td> <td>-0.435514 </td>\n",
       "        </tr>\n",
       "        <tr>\n",
       "            <td>1    </td> <td>1.51566  </td> <td>0.534056      </td> <td>1.87936             </td> <td>-1.10939  </td> <td>0.786018        </td> <td>-0.1136  </td> <td>1.89277   </td>\n",
       "        </tr>\n",
       "        <tr>\n",
       "            <td>1    </td> <td>-0.230439</td> <td>-1.26128      </td> <td>0.489051            </td> <td>-1.35303  </td> <td>0.36227         </td> <td>0.288239 </td> <td>0.834457  </td>\n",
       "        </tr>\n",
       "    </tbody>\n",
       "</table>\n",
       "<p>... (148 rows omitted)</p>"
      ],
      "text/plain": [
       "Class | Age       | Blood Pressure | Blood Glucose Random | Hemoglobin | Serum Creatinine | Sodium    | Blood Urea\n",
       "1     | -0.101098 | -0.363613      | -0.221549            | -0.865744  | 0.52525          | -3.73015  | 0.0724741\n",
       "1     | 0.222253  | 1.43173        | -0.947597            | -1.45745   | 1.63351          | -3.32831  | 1.15195\n",
       "1     | 0.868954  | -0.363613      | 3.84123              | -1.00497   | 0.166693         | -1.05122  | 0.157139\n",
       "1     | 1.19231   | 0.534056       | 0.396364             | -2.81488   | 0.623038         | -1.18517  | 0.792125\n",
       "1     | 0.739614  | 0.534056       | 0.643529             | -2.08395   | 0.557846         | -0.515439 | 2.01976\n",
       "1     | -0.101098 | 0.534056       | -0.561402            | -1.35303   | 1.79649          | -0.381492 | 2.33726\n",
       "1     | 1.25698   | -0.363613      | 2.04928              | -0.413266  | 0.166693         | -1.18517  | 0.728626\n",
       "1     | 1.51566   | -0.363613      | -0.947597            | -1.28342   | -0.420035        | -1.8549   | -0.435514\n",
       "1     | 1.51566   | 0.534056       | 1.87936              | -1.10939   | 0.786018         | -0.1136   | 1.89277\n",
       "1     | -0.230439 | -1.26128       | 0.489051             | -1.35303   | 0.36227          | 0.288239  | 0.834457\n",
       "... (148 rows omitted)"
      ]
     },
     "execution_count": 145,
     "metadata": {},
     "output_type": "execute_result"
    }
   ],
   "source": [
    "for label in features:\n",
    "    print('Standardizing: ',label)\n",
    "    sCKD = sCKD.with_columns(label,standard_units(CKD[label]))\n",
    "sCKD   "
   ]
  },
  {
   "cell_type": "code",
   "execution_count": 174,
   "id": "eaa99341-00aa-4eaa-a710-f34b2d6bf16e",
   "metadata": {
    "tags": []
   },
   "outputs": [
    {
     "name": "stdout",
     "output_type": "stream",
     "text": [
      "126 training and 32 test instances.\n"
     ]
    },
    {
     "data": {
      "text/html": [
       "<table border=\"1\" class=\"dataframe\">\n",
       "    <thead>\n",
       "        <tr>\n",
       "            <th>Class</th> <th>Age</th> <th>Blood Pressure</th> <th>Blood Glucose Random</th> <th>Hemoglobin</th> <th>Serum Creatinine</th> <th>Sodium</th> <th>Blood Urea</th>\n",
       "        </tr>\n",
       "    </thead>\n",
       "    <tbody>\n",
       "        <tr>\n",
       "            <td>0    </td> <td>-0.55379 </td> <td>0.534056      </td> <td>-0.14431            </td> <td>1.18781   </td> <td>-0.452631       </td> <td>-0.1136 </td> <td>-0.583678 </td>\n",
       "        </tr>\n",
       "        <tr>\n",
       "            <td>0    </td> <td>0.739614 </td> <td>-0.363613     </td> <td>0.025616            </td> <td>0.00440582</td> <td>-0.387439       </td> <td>0.422185</td> <td>-0.308517 </td>\n",
       "        </tr>\n",
       "        <tr>\n",
       "            <td>0    </td> <td>-0.359779</td> <td>-1.26128      </td> <td>-0.545954           </td> <td>1.1182    </td> <td>-0.420035       </td> <td>1.09192 </td> <td>-0.414348 </td>\n",
       "        </tr>\n",
       "    </tbody>\n",
       "</table>\n",
       "<p>... (123 rows omitted)</p>"
      ],
      "text/plain": [
       "<IPython.core.display.HTML object>"
      ]
     },
     "metadata": {},
     "output_type": "display_data"
    }
   ],
   "source": [
    "trainK, testK = sCKD.split(int(0.8*CKD.num_rows))\n",
    "print(trainK.num_rows, 'training and', testK.num_rows, 'test instances.')\n",
    "\n",
    "trainK.show(3)"
   ]
  },
  {
   "cell_type": "markdown",
   "id": "4d842115-e2dd-4bb8-917a-fe8e66087339",
   "metadata": {},
   "source": [
    "#### Test prediction accuracy using specified features"
   ]
  },
  {
   "cell_type": "code",
   "execution_count": 175,
   "id": "7a9a0508-65aa-44dd-a5c5-66af2b151aed",
   "metadata": {
    "tags": []
   },
   "outputs": [
    {
     "name": "stdout",
     "output_type": "stream",
     "text": [
      "Percent correct: 90.6%\n"
     ]
    }
   ],
   "source": [
    "correct = 0\n",
    "predict_list = []\n",
    "for i in np.arange(testK.num_rows):\n",
    "    predict = predict_knn_class(i, trainK, testK, k=8, pr=False)\n",
    "    predict_list.append(predict)\n",
    "    correct += 1*(predict == testK[target[0]][i])\n",
    "print(f'Percent correct: {correct/testK.num_rows*100:.1f}%')"
   ]
  },
  {
   "cell_type": "code",
   "execution_count": 176,
   "id": "8b0a043b-35b2-4d84-89ec-cb901e4c4417",
   "metadata": {
    "tags": []
   },
   "outputs": [
    {
     "data": {
      "text/html": [
       "<table border=\"1\" class=\"dataframe\">\n",
       "    <thead>\n",
       "        <tr>\n",
       "            <th>Class</th> <th>predict</th> <th>Age</th> <th>Blood Pressure</th> <th>Blood Glucose Random</th> <th>Hemoglobin</th> <th>Serum Creatinine</th> <th>Sodium</th> <th>Blood Urea</th>\n",
       "        </tr>\n",
       "    </thead>\n",
       "    <tbody>\n",
       "        <tr>\n",
       "            <td>0    </td> <td>0      </td> <td>49  </td> <td>80            </td> <td>122                 </td> <td>17        </td> <td>1.2             </td> <td>139   </td> <td>32        </td>\n",
       "        </tr>\n",
       "        <tr>\n",
       "            <td>0    </td> <td>0      </td> <td>45  </td> <td>80            </td> <td>82                  </td> <td>15.9      </td> <td>0.6             </td> <td>147   </td> <td>49        </td>\n",
       "        </tr>\n",
       "        <tr>\n",
       "            <td>0    </td> <td>0      </td> <td>41  </td> <td>80            </td> <td>112                 </td> <td>17        </td> <td>0.7             </td> <td>140   </td> <td>48        </td>\n",
       "        </tr>\n",
       "        <tr>\n",
       "            <td>1    </td> <td>1      </td> <td>71  </td> <td>60            </td> <td>118                 </td> <td>11.4      </td> <td>5.3             </td> <td>136   </td> <td>125       </td>\n",
       "        </tr>\n",
       "        <tr>\n",
       "            <td>1    </td> <td>1      </td> <td>63  </td> <td>70            </td> <td>380                 </td> <td>10.8      </td> <td>2.7             </td> <td>131   </td> <td>60        </td>\n",
       "        </tr>\n",
       "        <tr>\n",
       "            <td>1    </td> <td>1      </td> <td>71  </td> <td>70            </td> <td>219                 </td> <td>10.4      </td> <td>3.6             </td> <td>133   </td> <td>82        </td>\n",
       "        </tr>\n",
       "        <tr>\n",
       "            <td>1    </td> <td>1      </td> <td>49  </td> <td>100           </td> <td>129                 </td> <td>8.1       </td> <td>11.8            </td> <td>122   </td> <td>158       </td>\n",
       "        </tr>\n",
       "        <tr>\n",
       "            <td>0    </td> <td>0      </td> <td>65  </td> <td>60            </td> <td>109                 </td> <td>13.9      </td> <td>1               </td> <td>144   </td> <td>39        </td>\n",
       "        </tr>\n",
       "        <tr>\n",
       "            <td>0    </td> <td>0      </td> <td>66  </td> <td>70            </td> <td>94                  </td> <td>16        </td> <td>0.7             </td> <td>135   </td> <td>19        </td>\n",
       "        </tr>\n",
       "        <tr>\n",
       "            <td>0    </td> <td>0      </td> <td>29  </td> <td>80            </td> <td>70                  </td> <td>13.7      </td> <td>0.7             </td> <td>138   </td> <td>16        </td>\n",
       "        </tr>\n",
       "    </tbody>\n",
       "</table>\n",
       "<p>... (22 rows omitted)</p>"
      ],
      "text/plain": [
       "Class | predict | Age  | Blood Pressure | Blood Glucose Random | Hemoglobin | Serum Creatinine | Sodium | Blood Urea\n",
       "0     | 0       | 49   | 80             | 122                  | 17         | 1.2              | 139    | 32\n",
       "0     | 0       | 45   | 80             | 82                   | 15.9       | 0.6              | 147    | 49\n",
       "0     | 0       | 41   | 80             | 112                  | 17         | 0.7              | 140    | 48\n",
       "1     | 1       | 71   | 60             | 118                  | 11.4       | 5.3              | 136    | 125\n",
       "1     | 1       | 63   | 70             | 380                  | 10.8       | 2.7              | 131    | 60\n",
       "1     | 1       | 71   | 70             | 219                  | 10.4       | 3.6              | 133    | 82\n",
       "1     | 1       | 49   | 100            | 129                  | 8.1        | 11.8             | 122    | 158\n",
       "0     | 0       | 65   | 60             | 109                  | 13.9       | 1                | 144    | 39\n",
       "0     | 0       | 66   | 70             | 94                   | 16         | 0.7              | 135    | 19\n",
       "0     | 0       | 29   | 80             | 70                   | 13.7       | 0.7              | 138    | 16\n",
       "... (22 rows omitted)"
      ]
     },
     "execution_count": 176,
     "metadata": {},
     "output_type": "execute_result"
    },
    {
     "data": {
      "image/png": "[encoded data removed]",
      "text/plain": [
       "<Figure size 640x480 with 1 Axes>"
      ]
     },
     "metadata": {},
     "output_type": "display_data"
    }
   ],
   "source": [
    "plot_relate(CKD, testK, predict_list, \"Blood Urea\", \"Sodium\")"
   ]
  },
  {
   "cell_type": "markdown",
   "id": "025a56aa-be8a-44ef-b6f7-87e45cf549af",
   "metadata": {},
   "source": [
    "**<font color=blue>Interpretation: Patients with high sodium and low urea are less likely to be predicted to have CKD**"
   ]
  },
  {
   "cell_type": "markdown",
   "id": "df492b79-7ebd-462b-b21e-afe0cf1cf368",
   "metadata": {
    "tags": []
   },
   "source": [
    "**<font color=green>Improved...**"
   ]
  }
 ],
 "metadata": {
  "kernelspec": {
   "display_name": "Python 3 (ipykernel)",
   "language": "python",
   "name": "python3"
  },
  "language_info": {
   "codemirror_mode": {
    "name": "ipython",
    "version": 3
   },
   "file_extension": ".py",
   "mimetype": "text/x-python",
   "name": "python",
   "nbconvert_exporter": "python",
   "pygments_lexer": "ipython3",
   "version": "3.10.11"
  }
 },
 "nbformat": 4,
 "nbformat_minor": 5
}
